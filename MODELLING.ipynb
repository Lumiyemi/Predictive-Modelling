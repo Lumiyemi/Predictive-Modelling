{
 "cells": [
  {
   "cell_type": "code",
   "execution_count": 5,
   "metadata": {},
   "outputs": [],
   "source": [
    "# import Pandas and Numpy packages\n",
    "\n",
    "import pandas as pd\n",
    "\n",
    "import numpy as np\n",
    "\n",
    "import seaborn as sns\n",
    "\n",
    "sns.set_theme(palette=\"Set2\")"
   ]
  },
  {
   "cell_type": "code",
   "execution_count": 6,
   "metadata": {},
   "outputs": [
    {
     "data": {
      "text/html": [
       "<div>\n",
       "<style scoped>\n",
       "    .dataframe tbody tr th:only-of-type {\n",
       "        vertical-align: middle;\n",
       "    }\n",
       "\n",
       "    .dataframe tbody tr th {\n",
       "        vertical-align: top;\n",
       "    }\n",
       "\n",
       "    .dataframe thead th {\n",
       "        text-align: right;\n",
       "    }\n",
       "</style>\n",
       "<table border=\"1\" class=\"dataframe\">\n",
       "  <thead>\n",
       "    <tr style=\"text-align: right;\">\n",
       "      <th></th>\n",
       "      <th>trans_date_trans_time</th>\n",
       "      <th>credit_card_number</th>\n",
       "      <th>merchant</th>\n",
       "      <th>category</th>\n",
       "      <th>amount</th>\n",
       "      <th>first_name</th>\n",
       "      <th>last_name</th>\n",
       "      <th>gender</th>\n",
       "      <th>street</th>\n",
       "      <th>city</th>\n",
       "      <th>...</th>\n",
       "      <th>latitude</th>\n",
       "      <th>longitude</th>\n",
       "      <th>city_population</th>\n",
       "      <th>job</th>\n",
       "      <th>day_of_birth</th>\n",
       "      <th>trans_number</th>\n",
       "      <th>unix_time</th>\n",
       "      <th>merchant_lat</th>\n",
       "      <th>merchant_long</th>\n",
       "      <th>fraud</th>\n",
       "    </tr>\n",
       "  </thead>\n",
       "  <tbody>\n",
       "    <tr>\n",
       "      <th>0</th>\n",
       "      <td>2/1/2021 0:02</td>\n",
       "      <td>4.750000e+12</td>\n",
       "      <td>fraud_Kling-Grant</td>\n",
       "      <td>grocery_net</td>\n",
       "      <td>19.46</td>\n",
       "      <td>Carrie</td>\n",
       "      <td>Washington</td>\n",
       "      <td>F</td>\n",
       "      <td>6114 Adams Harbor Suite 096</td>\n",
       "      <td>Kingsford Heights</td>\n",
       "      <td>...</td>\n",
       "      <td>41.4802</td>\n",
       "      <td>-86.6919</td>\n",
       "      <td>1423</td>\n",
       "      <td>Psychologist, forensic</td>\n",
       "      <td>10/7/1998</td>\n",
       "      <td>0442179ed2d64942bc45c5442c3d5895</td>\n",
       "      <td>1328054544</td>\n",
       "      <td>41.587290</td>\n",
       "      <td>-87.582956</td>\n",
       "      <td>0</td>\n",
       "    </tr>\n",
       "    <tr>\n",
       "      <th>1</th>\n",
       "      <td>2/1/2021 0:03</td>\n",
       "      <td>4.330000e+15</td>\n",
       "      <td>fraud_Huel-Langworth</td>\n",
       "      <td>misc_net</td>\n",
       "      <td>13.01</td>\n",
       "      <td>Scott</td>\n",
       "      <td>Martin</td>\n",
       "      <td>M</td>\n",
       "      <td>7483 Navarro Flats</td>\n",
       "      <td>Freedom</td>\n",
       "      <td>...</td>\n",
       "      <td>43.0172</td>\n",
       "      <td>-111.0292</td>\n",
       "      <td>471</td>\n",
       "      <td>Education officer, museum</td>\n",
       "      <td>8/2/1967</td>\n",
       "      <td>ef5b8cbad64ceecb8d1b81960a49b467</td>\n",
       "      <td>1328054607</td>\n",
       "      <td>42.032369</td>\n",
       "      <td>-111.700448</td>\n",
       "      <td>0</td>\n",
       "    </tr>\n",
       "    <tr>\n",
       "      <th>2</th>\n",
       "      <td>2/1/2021 0:05</td>\n",
       "      <td>4.720000e+18</td>\n",
       "      <td>fraud_Streich, Hansen and Veum</td>\n",
       "      <td>gas_transport</td>\n",
       "      <td>50.02</td>\n",
       "      <td>Robert</td>\n",
       "      <td>Drake</td>\n",
       "      <td>M</td>\n",
       "      <td>463 Willie Estates</td>\n",
       "      <td>Burbank</td>\n",
       "      <td>...</td>\n",
       "      <td>36.6966</td>\n",
       "      <td>-96.7869</td>\n",
       "      <td>471</td>\n",
       "      <td>Sub</td>\n",
       "      <td>3/30/1941</td>\n",
       "      <td>eae42972de9670a3d907035c0594d494</td>\n",
       "      <td>1328054744</td>\n",
       "      <td>36.413203</td>\n",
       "      <td>-95.986495</td>\n",
       "      <td>0</td>\n",
       "    </tr>\n",
       "    <tr>\n",
       "      <th>3</th>\n",
       "      <td>2/1/2021 0:06</td>\n",
       "      <td>1.800000e+14</td>\n",
       "      <td>fraud_Johns Inc</td>\n",
       "      <td>entertainment</td>\n",
       "      <td>6.11</td>\n",
       "      <td>Jared</td>\n",
       "      <td>Camacho</td>\n",
       "      <td>M</td>\n",
       "      <td>4257 Perez Mall</td>\n",
       "      <td>Canton</td>\n",
       "      <td>...</td>\n",
       "      <td>40.8027</td>\n",
       "      <td>-81.3739</td>\n",
       "      <td>192805</td>\n",
       "      <td>Building control surveyor</td>\n",
       "      <td>6/30/1963</td>\n",
       "      <td>2832eb7d75a6f04468c3e52b03103090</td>\n",
       "      <td>1328054781</td>\n",
       "      <td>40.576060</td>\n",
       "      <td>-81.529672</td>\n",
       "      <td>0</td>\n",
       "    </tr>\n",
       "    <tr>\n",
       "      <th>4</th>\n",
       "      <td>2/1/2021 0:08</td>\n",
       "      <td>4.540000e+18</td>\n",
       "      <td>fraud_Spinka Inc</td>\n",
       "      <td>grocery_net</td>\n",
       "      <td>32.14</td>\n",
       "      <td>Nathan</td>\n",
       "      <td>Mendoza</td>\n",
       "      <td>M</td>\n",
       "      <td>767 Adam Mill Apt. 115</td>\n",
       "      <td>Espanola</td>\n",
       "      <td>...</td>\n",
       "      <td>35.9866</td>\n",
       "      <td>-106.0654</td>\n",
       "      <td>18408</td>\n",
       "      <td>Historic buildings inspector/conservation officer</td>\n",
       "      <td>7/18/1972</td>\n",
       "      <td>345575e8bebaaed20c5ded6694383a3a</td>\n",
       "      <td>1328054900</td>\n",
       "      <td>35.125220</td>\n",
       "      <td>-105.981956</td>\n",
       "      <td>0</td>\n",
       "    </tr>\n",
       "  </tbody>\n",
       "</table>\n",
       "<p>5 rows × 22 columns</p>\n",
       "</div>"
      ],
      "text/plain": [
       "  trans_date_trans_time  credit_card_number                        merchant  \\\n",
       "0         2/1/2021 0:02        4.750000e+12               fraud_Kling-Grant   \n",
       "1         2/1/2021 0:03        4.330000e+15            fraud_Huel-Langworth   \n",
       "2         2/1/2021 0:05        4.720000e+18  fraud_Streich, Hansen and Veum   \n",
       "3         2/1/2021 0:06        1.800000e+14                 fraud_Johns Inc   \n",
       "4         2/1/2021 0:08        4.540000e+18                fraud_Spinka Inc   \n",
       "\n",
       "        category  amount first_name   last_name gender  \\\n",
       "0    grocery_net   19.46     Carrie  Washington      F   \n",
       "1       misc_net   13.01      Scott      Martin      M   \n",
       "2  gas_transport   50.02     Robert       Drake      M   \n",
       "3  entertainment    6.11      Jared     Camacho      M   \n",
       "4    grocery_net   32.14     Nathan     Mendoza      M   \n",
       "\n",
       "                        street               city  ... latitude  longitude  \\\n",
       "0  6114 Adams Harbor Suite 096  Kingsford Heights  ...  41.4802   -86.6919   \n",
       "1           7483 Navarro Flats            Freedom  ...  43.0172  -111.0292   \n",
       "2           463 Willie Estates            Burbank  ...  36.6966   -96.7869   \n",
       "3              4257 Perez Mall             Canton  ...  40.8027   -81.3739   \n",
       "4       767 Adam Mill Apt. 115           Espanola  ...  35.9866  -106.0654   \n",
       "\n",
       "   city_population                                                job  \\\n",
       "0             1423                             Psychologist, forensic   \n",
       "1              471                          Education officer, museum   \n",
       "2              471                                                Sub   \n",
       "3           192805                          Building control surveyor   \n",
       "4            18408  Historic buildings inspector/conservation officer   \n",
       "\n",
       "   day_of_birth                      trans_number   unix_time merchant_lat  \\\n",
       "0     10/7/1998  0442179ed2d64942bc45c5442c3d5895  1328054544    41.587290   \n",
       "1      8/2/1967  ef5b8cbad64ceecb8d1b81960a49b467  1328054607    42.032369   \n",
       "2     3/30/1941  eae42972de9670a3d907035c0594d494  1328054744    36.413203   \n",
       "3     6/30/1963  2832eb7d75a6f04468c3e52b03103090  1328054781    40.576060   \n",
       "4     7/18/1972  345575e8bebaaed20c5ded6694383a3a  1328054900    35.125220   \n",
       "\n",
       "   merchant_long  fraud  \n",
       "0     -87.582956      0  \n",
       "1    -111.700448      0  \n",
       "2     -95.986495      0  \n",
       "3     -81.529672      0  \n",
       "4    -105.981956      0  \n",
       "\n",
       "[5 rows x 22 columns]"
      ]
     },
     "execution_count": 6,
     "metadata": {},
     "output_type": "execute_result"
    }
   ],
   "source": [
    "data = pd.read_csv(\"df.csv\")\n",
    "data.head()"
   ]
  },
  {
   "cell_type": "code",
   "execution_count": 7,
   "metadata": {},
   "outputs": [
    {
     "name": "stdout",
     "output_type": "stream",
     "text": [
      "<class 'pandas.core.frame.DataFrame'>\n",
      "RangeIndex: 975036 entries, 0 to 975035\n",
      "Data columns (total 22 columns):\n",
      " #   Column                 Non-Null Count   Dtype         \n",
      "---  ------                 --------------   -----         \n",
      " 0   trans_date_trans_time  975036 non-null  datetime64[ns]\n",
      " 1   credit_card_number     975036 non-null  float64       \n",
      " 2   merchant               975036 non-null  object        \n",
      " 3   category               975036 non-null  object        \n",
      " 4   amount                 975036 non-null  float64       \n",
      " 5   first_name             975036 non-null  object        \n",
      " 6   last_name              975036 non-null  object        \n",
      " 7   gender                 975036 non-null  object        \n",
      " 8   street                 975036 non-null  object        \n",
      " 9   city                   975036 non-null  object        \n",
      " 10  state                  975036 non-null  object        \n",
      " 11  zip_code               975036 non-null  int64         \n",
      " 12  latitude               975036 non-null  float64       \n",
      " 13  longitude              975036 non-null  float64       \n",
      " 14  city_population        975036 non-null  int64         \n",
      " 15  job                    975036 non-null  object        \n",
      " 16  trans_number           975036 non-null  object        \n",
      " 17  unix_time              975036 non-null  int64         \n",
      " 18  merchant_lat           975036 non-null  float64       \n",
      " 19  merchant_long          975036 non-null  float64       \n",
      " 20  fraud                  975036 non-null  int64         \n",
      " 21  age                    975036 non-null  int64         \n",
      "dtypes: datetime64[ns](1), float64(6), int64(5), object(10)\n",
      "memory usage: 163.7+ MB\n"
     ]
    }
   ],
   "source": [
    "import pandas as pd\n",
    "from datetime import datetime\n",
    "\n",
    "\n",
    "# Change 'trans_date_trans_time' to datetime format\n",
    "data['trans_date_trans_time'] = pd.to_datetime(data['trans_date_trans_time'])\n",
    "\n",
    "# Convert 'day_of_birth' to datetime format\n",
    "data['day_of_birth'] = pd.to_datetime(data['day_of_birth'])\n",
    "\n",
    "# Calculate 'age' based on 'day_of_birth'\n",
    "current_date = datetime.now()\n",
    "data['age'] = current_date.year - data['day_of_birth'].dt.year\n",
    "\n",
    "# Drop the original 'day_of_birth' column\n",
    "data.drop(columns=['day_of_birth'], inplace=True)\n",
    "\n",
    "data.info()"
   ]
  },
  {
   "cell_type": "code",
   "execution_count": 8,
   "metadata": {},
   "outputs": [
    {
     "name": "stdout",
     "output_type": "stream",
     "text": [
      "<class 'pandas.core.frame.DataFrame'>\n",
      "RangeIndex: 975036 entries, 0 to 975035\n",
      "Data columns (total 25 columns):\n",
      " #   Column              Non-Null Count   Dtype  \n",
      "---  ------              --------------   -----  \n",
      " 0   credit_card_number  975036 non-null  float64\n",
      " 1   merchant            975036 non-null  object \n",
      " 2   category            975036 non-null  object \n",
      " 3   amount              975036 non-null  float64\n",
      " 4   first_name          975036 non-null  object \n",
      " 5   last_name           975036 non-null  object \n",
      " 6   gender              975036 non-null  object \n",
      " 7   street              975036 non-null  object \n",
      " 8   city                975036 non-null  object \n",
      " 9   state               975036 non-null  object \n",
      " 10  zip_code            975036 non-null  int64  \n",
      " 11  latitude            975036 non-null  float64\n",
      " 12  longitude           975036 non-null  float64\n",
      " 13  city_population     975036 non-null  int64  \n",
      " 14  job                 975036 non-null  object \n",
      " 15  trans_number        975036 non-null  object \n",
      " 16  unix_time           975036 non-null  int64  \n",
      " 17  merchant_lat        975036 non-null  float64\n",
      " 18  merchant_long       975036 non-null  float64\n",
      " 19  fraud               975036 non-null  int64  \n",
      " 20  age                 975036 non-null  int64  \n",
      " 21  transaction_date    975036 non-null  int64  \n",
      " 22  transaction_month   975036 non-null  int64  \n",
      " 23  transaction_year    975036 non-null  int64  \n",
      " 24  transaction_hour    975036 non-null  int64  \n",
      "dtypes: float64(6), int64(9), object(10)\n",
      "memory usage: 186.0+ MB\n"
     ]
    }
   ],
   "source": [
    "# Extract date, month, year, and hour into separate columns\n",
    "data['transaction_date'] = data['trans_date_trans_time'].dt.day\n",
    "data['transaction_month'] = data['trans_date_trans_time'].dt.month\n",
    "data['transaction_year'] = data['trans_date_trans_time'].dt.year\n",
    "data['transaction_hour'] = data['trans_date_trans_time'].dt.hour\n",
    "\n",
    " \n",
    "\n",
    "# Drop the original transaction date and time column if needed\n",
    "data.drop(columns=['trans_date_trans_time'], inplace=True)\n",
    "\n",
    "data.info()"
   ]
  },
  {
   "cell_type": "code",
   "execution_count": 9,
   "metadata": {},
   "outputs": [
    {
     "name": "stdout",
     "output_type": "stream",
     "text": [
      "<class 'pandas.core.frame.DataFrame'>\n",
      "RangeIndex: 975036 entries, 0 to 975035\n",
      "Data columns (total 10 columns):\n",
      " #   Column             Non-Null Count   Dtype  \n",
      "---  ------             --------------   -----  \n",
      " 0   category           975036 non-null  object \n",
      " 1   amount             975036 non-null  float64\n",
      " 2   gender             975036 non-null  object \n",
      " 3   unix_time          975036 non-null  int64  \n",
      " 4   fraud              975036 non-null  int64  \n",
      " 5   age                975036 non-null  int64  \n",
      " 6   transaction_date   975036 non-null  int64  \n",
      " 7   transaction_month  975036 non-null  int64  \n",
      " 8   transaction_year   975036 non-null  int64  \n",
      " 9   transaction_hour   975036 non-null  int64  \n",
      "dtypes: float64(1), int64(7), object(2)\n",
      "memory usage: 74.4+ MB\n"
     ]
    }
   ],
   "source": [
    "# List of irrelevant columns\n",
    "irrelevant_columns = ['credit_card_number', 'first_name', 'last_name', 'street', 'state', \n",
    "                      'merchant_lat', 'merchant_long', 'trans_number', 'longitude', 'city_population', \n",
    "                      'latitude', 'merchant', 'zip_code', 'job', 'city']\n",
    "\n",
    "# Drop the irrelevant columns from the training data\n",
    "data1 = data.drop(irrelevant_columns, axis=1)\n",
    "\n",
    "data1.info()"
   ]
  },
  {
   "cell_type": "code",
   "execution_count": 10,
   "metadata": {},
   "outputs": [
    {
     "name": "stdout",
     "output_type": "stream",
     "text": [
      "Dataset Shape: (975036, 9) (975036,)\n",
      "Train and Test Shape: (780028, 9) (195008, 9) (780028,) (195008,)\n"
     ]
    }
   ],
   "source": [
    "from sklearn.model_selection import train_test_split\n",
    "\n",
    "# Separate the features and target variable\n",
    "X = data1.drop(['fraud'], axis=1)  # Features (all columns except 'fraud')\n",
    "y = data1['fraud']  # Target variable\n",
    "\n",
    "print(\"Dataset Shape:\", X.shape, y.shape)\n",
    "\n",
    "X_train, X_test, y_train, y_test = train_test_split(X, y, test_size=0.20, random_state=1)\n",
    "\n",
    "print(\"Train and Test Shape:\", X_train.shape, X_test.shape, y_train.shape, y_test.shape)"
   ]
  },
  {
   "cell_type": "code",
   "execution_count": 11,
   "metadata": {},
   "outputs": [
    {
     "data": {
      "text/html": [
       "<div>\n",
       "<style scoped>\n",
       "    .dataframe tbody tr th:only-of-type {\n",
       "        vertical-align: middle;\n",
       "    }\n",
       "\n",
       "    .dataframe tbody tr th {\n",
       "        vertical-align: top;\n",
       "    }\n",
       "\n",
       "    .dataframe thead th {\n",
       "        text-align: right;\n",
       "    }\n",
       "</style>\n",
       "<table border=\"1\" class=\"dataframe\">\n",
       "  <thead>\n",
       "    <tr style=\"text-align: right;\">\n",
       "      <th></th>\n",
       "      <th>category</th>\n",
       "      <th>amount</th>\n",
       "      <th>gender</th>\n",
       "      <th>unix_time</th>\n",
       "      <th>age</th>\n",
       "      <th>transaction_date</th>\n",
       "      <th>transaction_month</th>\n",
       "      <th>transaction_year</th>\n",
       "      <th>transaction_hour</th>\n",
       "    </tr>\n",
       "  </thead>\n",
       "  <tbody>\n",
       "    <tr>\n",
       "      <th>664639</th>\n",
       "      <td>1</td>\n",
       "      <td>2.43</td>\n",
       "      <td>1</td>\n",
       "      <td>1351881614</td>\n",
       "      <td>36</td>\n",
       "      <td>2</td>\n",
       "      <td>11</td>\n",
       "      <td>2021</td>\n",
       "      <td>18</td>\n",
       "    </tr>\n",
       "    <tr>\n",
       "      <th>183150</th>\n",
       "      <td>11</td>\n",
       "      <td>129.36</td>\n",
       "      <td>0</td>\n",
       "      <td>1335634920</td>\n",
       "      <td>30</td>\n",
       "      <td>28</td>\n",
       "      <td>4</td>\n",
       "      <td>2021</td>\n",
       "      <td>17</td>\n",
       "    </tr>\n",
       "    <tr>\n",
       "      <th>95256</th>\n",
       "      <td>7</td>\n",
       "      <td>141.70</td>\n",
       "      <td>1</td>\n",
       "      <td>1332282671</td>\n",
       "      <td>38</td>\n",
       "      <td>20</td>\n",
       "      <td>3</td>\n",
       "      <td>2021</td>\n",
       "      <td>22</td>\n",
       "    </tr>\n",
       "    <tr>\n",
       "      <th>270029</th>\n",
       "      <td>2</td>\n",
       "      <td>49.39</td>\n",
       "      <td>0</td>\n",
       "      <td>1338717763</td>\n",
       "      <td>81</td>\n",
       "      <td>3</td>\n",
       "      <td>6</td>\n",
       "      <td>2021</td>\n",
       "      <td>10</td>\n",
       "    </tr>\n",
       "    <tr>\n",
       "      <th>553745</th>\n",
       "      <td>10</td>\n",
       "      <td>5.40</td>\n",
       "      <td>0</td>\n",
       "      <td>1347662896</td>\n",
       "      <td>78</td>\n",
       "      <td>14</td>\n",
       "      <td>9</td>\n",
       "      <td>2021</td>\n",
       "      <td>22</td>\n",
       "    </tr>\n",
       "  </tbody>\n",
       "</table>\n",
       "</div>"
      ],
      "text/plain": [
       "        category  amount  gender   unix_time  age  transaction_date  \\\n",
       "664639         1    2.43       1  1351881614   36                 2   \n",
       "183150        11  129.36       0  1335634920   30                28   \n",
       "95256          7  141.70       1  1332282671   38                20   \n",
       "270029         2   49.39       0  1338717763   81                 3   \n",
       "553745        10    5.40       0  1347662896   78                14   \n",
       "\n",
       "        transaction_month  transaction_year  transaction_hour  \n",
       "664639                 11              2021                18  \n",
       "183150                  4              2021                17  \n",
       "95256                   3              2021                22  \n",
       "270029                  6              2021                10  \n",
       "553745                  9              2021                22  "
      ]
     },
     "execution_count": 11,
     "metadata": {},
     "output_type": "execute_result"
    }
   ],
   "source": [
    "\n",
    "from sklearn.preprocessing import LabelEncoder, StandardScaler\n",
    "\n",
    "# Convert categorical variables to numerical representations\n",
    "label_encoder = LabelEncoder()\n",
    "categorical_columns = ['category', 'gender']\n",
    "for col in categorical_columns:\n",
    "    X_train[col] = label_encoder.fit_transform(X_train[col])\n",
    "\n",
    "X_train.head()"
   ]
  },
  {
   "cell_type": "code",
   "execution_count": 12,
   "metadata": {},
   "outputs": [
    {
     "name": "stdout",
     "output_type": "stream",
     "text": [
      "Requirement already satisfied: imbalanced-learn in c:\\users\\dell latitude 7240\\anaconda\\lib\\site-packages (0.11.0)Note: you may need to restart the kernel to use updated packages.\n",
      "\n",
      "Requirement already satisfied: threadpoolctl>=2.0.0 in c:\\users\\dell latitude 7240\\anaconda\\lib\\site-packages (from imbalanced-learn) (2.2.0)\n",
      "Requirement already satisfied: scikit-learn>=1.0.2 in c:\\users\\dell latitude 7240\\anaconda\\lib\\site-packages (from imbalanced-learn) (1.0.2)\n",
      "Requirement already satisfied: numpy>=1.17.3 in c:\\users\\dell latitude 7240\\anaconda\\lib\\site-packages (from imbalanced-learn) (1.21.5)\n",
      "Requirement already satisfied: joblib>=1.1.1 in c:\\users\\dell latitude 7240\\anaconda\\lib\\site-packages (from imbalanced-learn) (1.3.1)\n",
      "Requirement already satisfied: scipy>=1.5.0 in c:\\users\\dell latitude 7240\\anaconda\\lib\\site-packages (from imbalanced-learn) (1.7.3)\n"
     ]
    }
   ],
   "source": [
    "pip install imbalanced-learn\n"
   ]
  },
  {
   "cell_type": "code",
   "execution_count": 13,
   "metadata": {},
   "outputs": [
    {
     "data": {
      "text/html": [
       "<div>\n",
       "<style scoped>\n",
       "    .dataframe tbody tr th:only-of-type {\n",
       "        vertical-align: middle;\n",
       "    }\n",
       "\n",
       "    .dataframe tbody tr th {\n",
       "        vertical-align: top;\n",
       "    }\n",
       "\n",
       "    .dataframe thead th {\n",
       "        text-align: right;\n",
       "    }\n",
       "</style>\n",
       "<table border=\"1\" class=\"dataframe\">\n",
       "  <thead>\n",
       "    <tr style=\"text-align: right;\">\n",
       "      <th></th>\n",
       "      <th>category</th>\n",
       "      <th>amount</th>\n",
       "      <th>gender</th>\n",
       "      <th>unix_time</th>\n",
       "      <th>age</th>\n",
       "      <th>transaction_date</th>\n",
       "      <th>transaction_month</th>\n",
       "      <th>transaction_year</th>\n",
       "      <th>transaction_hour</th>\n",
       "    </tr>\n",
       "  </thead>\n",
       "  <tbody>\n",
       "    <tr>\n",
       "      <th>15064</th>\n",
       "      <td>3</td>\n",
       "      <td>41.81</td>\n",
       "      <td>1</td>\n",
       "      <td>1328834856</td>\n",
       "      <td>29</td>\n",
       "      <td>10</td>\n",
       "      <td>2</td>\n",
       "      <td>2021</td>\n",
       "      <td>0</td>\n",
       "    </tr>\n",
       "    <tr>\n",
       "      <th>731356</th>\n",
       "      <td>2</td>\n",
       "      <td>44.39</td>\n",
       "      <td>0</td>\n",
       "      <td>1354321468</td>\n",
       "      <td>60</td>\n",
       "      <td>1</td>\n",
       "      <td>12</td>\n",
       "      <td>2021</td>\n",
       "      <td>0</td>\n",
       "    </tr>\n",
       "    <tr>\n",
       "      <th>146716</th>\n",
       "      <td>4</td>\n",
       "      <td>94.71</td>\n",
       "      <td>1</td>\n",
       "      <td>1334275468</td>\n",
       "      <td>36</td>\n",
       "      <td>13</td>\n",
       "      <td>4</td>\n",
       "      <td>2021</td>\n",
       "      <td>0</td>\n",
       "    </tr>\n",
       "    <tr>\n",
       "      <th>971597</th>\n",
       "      <td>1</td>\n",
       "      <td>61.64</td>\n",
       "      <td>1</td>\n",
       "      <td>1362059121</td>\n",
       "      <td>41</td>\n",
       "      <td>28</td>\n",
       "      <td>2</td>\n",
       "      <td>2022</td>\n",
       "      <td>13</td>\n",
       "    </tr>\n",
       "    <tr>\n",
       "      <th>483782</th>\n",
       "      <td>5</td>\n",
       "      <td>55.60</td>\n",
       "      <td>1</td>\n",
       "      <td>1345296600</td>\n",
       "      <td>92</td>\n",
       "      <td>18</td>\n",
       "      <td>8</td>\n",
       "      <td>2021</td>\n",
       "      <td>13</td>\n",
       "    </tr>\n",
       "  </tbody>\n",
       "</table>\n",
       "</div>"
      ],
      "text/plain": [
       "        category  amount  gender   unix_time  age  transaction_date  \\\n",
       "15064          3   41.81       1  1328834856   29                10   \n",
       "731356         2   44.39       0  1354321468   60                 1   \n",
       "146716         4   94.71       1  1334275468   36                13   \n",
       "971597         1   61.64       1  1362059121   41                28   \n",
       "483782         5   55.60       1  1345296600   92                18   \n",
       "\n",
       "        transaction_month  transaction_year  transaction_hour  \n",
       "15064                   2              2021                 0  \n",
       "731356                 12              2021                 0  \n",
       "146716                  4              2021                 0  \n",
       "971597                  2              2022                13  \n",
       "483782                  8              2021                13  "
      ]
     },
     "execution_count": 13,
     "metadata": {},
     "output_type": "execute_result"
    }
   ],
   "source": [
    "from sklearn.preprocessing import LabelEncoder, StandardScaler\n",
    "\n",
    "# Convert categorical variables to numerical representations\n",
    "label_encoder = LabelEncoder()\n",
    "categorical_columns = ['category', 'gender']\n",
    "for col in categorical_columns:\n",
    "    X_test[col] = label_encoder.fit_transform(X_test[col])\n",
    "\n",
    "X_test.head()"
   ]
  },
  {
   "cell_type": "code",
   "execution_count": 14,
   "metadata": {},
   "outputs": [
    {
     "name": "stdout",
     "output_type": "stream",
     "text": [
      "Shape of the undersampled data: (8658, 10)\n"
     ]
    }
   ],
   "source": [
    "\n",
    "from imblearn.under_sampling import RandomUnderSampler\n",
    "\n",
    "# Create the RandomUnderSampler object\n",
    "under_sampler = RandomUnderSampler()\n",
    "\n",
    "# Perform undersampling on the dataset\n",
    "X_train_resampled, y_train_resampled = under_sampler.fit_resample(X_train, y_train)\n",
    "\n",
    "# Create a new DataFrame with the undersampled data\n",
    "undersampled_train_data = pd.concat([X_train_resampled, y_train_resampled], axis=1)\n",
    "\n",
    "# Print the shape of the undersampled data to verify the balance\n",
    "print(\"Shape of the undersampled data:\", undersampled_train_data.shape)\n"
   ]
  },
  {
   "cell_type": "code",
   "execution_count": 11,
   "metadata": {
    "scrolled": true
   },
   "outputs": [
    {
     "name": "stdout",
     "output_type": "stream",
     "text": [
      "<class 'pandas.core.frame.DataFrame'>\n",
      "Int64Index: 8658 entries, 44430 to 128896\n",
      "Data columns (total 10 columns):\n",
      " #   Column             Non-Null Count  Dtype  \n",
      "---  ------             --------------  -----  \n",
      " 0   category           8658 non-null   int32  \n",
      " 1   amount             8658 non-null   float64\n",
      " 2   gender             8658 non-null   int32  \n",
      " 3   unix_time          8658 non-null   int64  \n",
      " 4   age                8658 non-null   int64  \n",
      " 5   transaction_date   8658 non-null   int64  \n",
      " 6   transaction_month  8658 non-null   int64  \n",
      " 7   transaction_year   8658 non-null   int64  \n",
      " 8   transaction_hour   8658 non-null   int64  \n",
      " 9   fraud              8658 non-null   int64  \n",
      "dtypes: float64(1), int32(2), int64(7)\n",
      "memory usage: 676.4 KB\n"
     ]
    }
   ],
   "source": [
    "undersampled_train_data.info()"
   ]
  },
  {
   "cell_type": "markdown",
   "metadata": {},
   "source": [
    "# UNDERSAMPLED DATASET ANALYSIS"
   ]
  },
  {
   "cell_type": "code",
   "execution_count": 15,
   "metadata": {},
   "outputs": [
    {
     "name": "stdout",
     "output_type": "stream",
     "text": [
      "Accuracy: 0.9606990482441746\n",
      "Classification Report:\n",
      "              precision    recall  f1-score   support\n",
      "\n",
      "           0       1.00      0.96      0.98    193925\n",
      "           1       0.12      0.96      0.21      1083\n",
      "\n",
      "    accuracy                           0.96    195008\n",
      "   macro avg       0.56      0.96      0.60    195008\n",
      "weighted avg       0.99      0.96      0.98    195008\n",
      "\n",
      "Confusion Matrix:\n",
      "[[186304   7621]\n",
      " [    43   1040]]\n"
     ]
    }
   ],
   "source": [
    "import pandas as pd\n",
    "from sklearn.model_selection import train_test_split\n",
    "from sklearn.tree import DecisionTreeClassifier\n",
    "from sklearn.metrics import accuracy_score, classification_report, confusion_matrix\n",
    "\n",
    "\n",
    "# Create the DecisionTreeClassifier object\n",
    "decision_tree_model = DecisionTreeClassifier(random_state=42)\n",
    "\n",
    "# Train the decision tree model using the training data\n",
    "decision_tree_model.fit(X_train_resampled, y_train_resampled)\n",
    "\n",
    "# Make predictions on the testing data\n",
    "y_pred = decision_tree_model.predict(X_test)\n",
    "\n",
    "# Evaluate the model's performance\n",
    "accuracy = accuracy_score(y_test, y_pred)\n",
    "print(\"Accuracy:\", accuracy)\n",
    "\n",
    "# Generate the classification report and confusion matrix\n",
    "print(\"Classification Report:\")\n",
    "print(classification_report(y_test, y_pred))\n",
    "\n",
    "print(\"Confusion Matrix:\")\n",
    "print(confusion_matrix(y_test, y_pred))\n"
   ]
  },
  {
   "cell_type": "code",
   "execution_count": 16,
   "metadata": {},
   "outputs": [
    {
     "name": "stdout",
     "output_type": "stream",
     "text": [
      "Best Hyperparameters: {'criterion': 'gini', 'max_depth': 10, 'min_samples_leaf': 2, 'min_samples_split': 10, 'splitter': 'best'}\n",
      "Best Model Accuracy: 0.9711140055792583\n",
      "Classification Report for Best Model:\n",
      "              precision    recall  f1-score   support\n",
      "\n",
      "           0       1.00      0.97      0.99    193925\n",
      "           1       0.16      0.95      0.27      1083\n",
      "\n",
      "    accuracy                           0.97    195008\n",
      "   macro avg       0.58      0.96      0.63    195008\n",
      "weighted avg       1.00      0.97      0.98    195008\n",
      "\n",
      "Confusion Matrix for Best Model:\n",
      "[[188349   5576]\n",
      " [    57   1026]]\n"
     ]
    }
   ],
   "source": [
    "import pandas as pd\n",
    "from sklearn.model_selection import train_test_split, GridSearchCV\n",
    "from sklearn.tree import DecisionTreeClassifier\n",
    "from sklearn.metrics import accuracy_score, classification_report, confusion_matrix\n",
    "\n",
    "\n",
    "# Create the DecisionTreeClassifier object\n",
    "decision_tree_model = DecisionTreeClassifier(random_state=42)\n",
    "\n",
    "# Define the hyperparameters and their possible values to search over\n",
    "param_grid = {\n",
    "    'criterion': ['gini', 'entropy'],\n",
    "    'splitter': ['best', 'random'],\n",
    "    'max_depth': [None, 5, 10, 20],\n",
    "    'min_samples_split': [2, 5, 10],\n",
    "    'min_samples_leaf': [1, 2, 4]\n",
    "}\n",
    "\n",
    "# Create the GridSearchCV object with cross-validation\n",
    "grid_search = GridSearchCV(decision_tree_model, param_grid, cv=5, scoring='accuracy')\n",
    "\n",
    "# Fit the GridSearchCV object on the training data\n",
    "grid_search.fit(X_train_resampled, y_train_resampled)\n",
    "\n",
    "# Get the best hyperparameters found during the grid search\n",
    "best_params = grid_search.best_params_\n",
    "print(\"Best Hyperparameters:\", best_params)\n",
    "\n",
    "# Train the decision tree model with the best hyperparameters on the full training data\n",
    "best_decision_tree_model = DecisionTreeClassifier(**best_params, random_state=42)\n",
    "best_decision_tree_model.fit(X_train_resampled, y_train_resampled)\n",
    "\n",
    "# Make predictions on the testing data using the best model\n",
    "y_pred = best_decision_tree_model.predict(X_test)\n",
    "\n",
    "# Evaluate the best model's performance\n",
    "accuracy = accuracy_score(y_test, y_pred)\n",
    "print(\"Best Model Accuracy:\", accuracy)\n",
    "\n",
    "# Generate the classification report and confusion matrix for the best model\n",
    "print(\"Classification Report for Best Model:\")\n",
    "print(classification_report(y_test, y_pred))\n",
    "\n",
    "print(\"Confusion Matrix for Best Model:\")\n",
    "print(confusion_matrix(y_test, y_pred))\n"
   ]
  },
  {
   "cell_type": "code",
   "execution_count": 14,
   "metadata": {},
   "outputs": [
    {
     "name": "stdout",
     "output_type": "stream",
     "text": [
      "AdaBoost Model Accuracy: 0.9738369707909419\n",
      "Classification Report for AdaBoost Model:\n",
      "              precision    recall  f1-score   support\n",
      "\n",
      "           0       1.00      0.97      0.99    193925\n",
      "           1       0.17      0.96      0.29      1083\n",
      "\n",
      "    accuracy                           0.97    195008\n",
      "   macro avg       0.59      0.97      0.64    195008\n",
      "weighted avg       1.00      0.97      0.98    195008\n",
      "\n",
      "Confusion Matrix for AdaBoost Model:\n",
      "[[188861   5064]\n",
      " [    38   1045]]\n"
     ]
    }
   ],
   "source": [
    "import pandas as pd\n",
    "from sklearn.model_selection import train_test_split, GridSearchCV\n",
    "from sklearn.tree import DecisionTreeClassifier\n",
    "from sklearn.ensemble import AdaBoostClassifier\n",
    "from sklearn.metrics import accuracy_score, classification_report, confusion_matrix\n",
    "\n",
    "# Create the DecisionTreeClassifier object with the best hyperparameters found earlier\n",
    "best_decision_tree_model = DecisionTreeClassifier(criterion='entropy', splitter='best', \n",
    "                                                  max_depth=10, min_samples_split=2, min_samples_leaf=1, random_state=42)\n",
    "\n",
    "# Create the AdaBoostClassifier object, using the decision tree model as the base estimator\n",
    "adaboost_model = AdaBoostClassifier(base_estimator=best_decision_tree_model, random_state=42)\n",
    "\n",
    "# Train the AdaBoostClassifier on the training data\n",
    "adaboost_model.fit(X_train_resampled, y_train_resampled)\n",
    "\n",
    "# Make predictions on the testing data\n",
    "y_pred = adaboost_model.predict(X_test)\n",
    "\n",
    "# Evaluate the model's performance\n",
    "accuracy = accuracy_score(y_test, y_pred)\n",
    "print(\"AdaBoost Model Accuracy:\", accuracy)\n",
    "\n",
    "# Generate the classification report and confusion matrix\n",
    "print(\"Classification Report for AdaBoost Model:\")\n",
    "print(classification_report(y_test, y_pred))\n",
    "\n",
    "print(\"Confusion Matrix for AdaBoost Model:\")\n",
    "print(confusion_matrix(y_test, y_pred))\n"
   ]
  },
  {
   "cell_type": "code",
   "execution_count": 15,
   "metadata": {},
   "outputs": [
    {
     "name": "stdout",
     "output_type": "stream",
     "text": [
      "Requirement already satisfied: catboost in c:\\users\\dell latitude 7240\\anaconda\\lib\\site-packages (1.2)\n",
      "Requirement already satisfied: matplotlib in c:\\users\\dell latitude 7240\\anaconda\\lib\\site-packages (from catboost) (3.5.1)\n",
      "Requirement already satisfied: graphviz in c:\\users\\dell latitude 7240\\anaconda\\lib\\site-packages (from catboost) (0.20.1)\n",
      "Requirement already satisfied: pandas>=0.24 in c:\\users\\dell latitude 7240\\anaconda\\lib\\site-packages (from catboost) (1.4.2)\n",
      "Requirement already satisfied: scipy in c:\\users\\dell latitude 7240\\anaconda\\lib\\site-packages (from catboost) (1.7.3)\n",
      "Requirement already satisfied: six in c:\\users\\dell latitude 7240\\anaconda\\lib\\site-packages (from catboost) (1.16.0)\n",
      "Requirement already satisfied: plotly in c:\\users\\dell latitude 7240\\anaconda\\lib\\site-packages (from catboost) (5.6.0)\n",
      "Requirement already satisfied: numpy>=1.16.0 in c:\\users\\dell latitude 7240\\anaconda\\lib\\site-packages (from catboost) (1.21.5)\n",
      "Requirement already satisfied: pytz>=2020.1 in c:\\users\\dell latitude 7240\\anaconda\\lib\\site-packages (from pandas>=0.24->catboost) (2021.3)\n",
      "Requirement already satisfied: python-dateutil>=2.8.1 in c:\\users\\dell latitude 7240\\anaconda\\lib\\site-packages (from pandas>=0.24->catboost) (2.8.2)\n",
      "Requirement already satisfied: fonttools>=4.22.0 in c:\\users\\dell latitude 7240\\anaconda\\lib\\site-packages (from matplotlib->catboost) (4.25.0)\n",
      "Requirement already satisfied: kiwisolver>=1.0.1 in c:\\users\\dell latitude 7240\\anaconda\\lib\\site-packages (from matplotlib->catboost) (1.3.2)\n",
      "Requirement already satisfied: packaging>=20.0 in c:\\users\\dell latitude 7240\\anaconda\\lib\\site-packages (from matplotlib->catboost) (21.3)\n",
      "Requirement already satisfied: cycler>=0.10 in c:\\users\\dell latitude 7240\\anaconda\\lib\\site-packages (from matplotlib->catboost) (0.11.0)\n",
      "Requirement already satisfied: pillow>=6.2.0 in c:\\users\\dell latitude 7240\\anaconda\\lib\\site-packages (from matplotlib->catboost) (9.0.1)\n",
      "Requirement already satisfied: pyparsing>=2.2.1 in c:\\users\\dell latitude 7240\\anaconda\\lib\\site-packages (from matplotlib->catboost) (3.0.4)\n",
      "Requirement already satisfied: tenacity>=6.2.0 in c:\\users\\dell latitude 7240\\anaconda\\lib\\site-packages (from plotly->catboost) (8.0.1)\n",
      "Note: you may need to restart the kernel to use updated packages.\n"
     ]
    }
   ],
   "source": [
    "pip install catboost\n"
   ]
  },
  {
   "cell_type": "code",
   "execution_count": 20,
   "metadata": {},
   "outputs": [
    {
     "name": "stdout",
     "output_type": "stream",
     "text": [
      "CatBoost Model Accuracy: 0.9779034706268461\n",
      "Classification Report for CatBoost Model:\n",
      "              precision    recall  f1-score   support\n",
      "\n",
      "           0       1.00      0.98      0.99    193925\n",
      "           1       0.20      0.97      0.33      1083\n",
      "\n",
      "    accuracy                           0.98    195008\n",
      "   macro avg       0.60      0.97      0.66    195008\n",
      "weighted avg       1.00      0.98      0.99    195008\n",
      "\n",
      "Confusion Matrix for CatBoost Model:\n",
      "[[189647   4278]\n",
      " [    31   1052]]\n"
     ]
    }
   ],
   "source": [
    "import pandas as pd\n",
    "from sklearn.model_selection import train_test_split\n",
    "from sklearn.tree import DecisionTreeClassifier\n",
    "from catboost import CatBoostClassifier\n",
    "from sklearn.metrics import accuracy_score, classification_report, confusion_matrix\n",
    "\n",
    "\n",
    "# Create the CatBoostClassifier object, using the decision tree model as the base estimator\n",
    "catboost_model = CatBoostClassifier(random_seed=42, verbose=False)\n",
    "\n",
    "# Train the CatBoostClassifier on the training data\n",
    "catboost_model.fit(X_train_resampled, y_train_resampled)\n",
    "\n",
    "# Make predictions on the testing data\n",
    "y_pred = catboost_model.predict(X_test)\n",
    "\n",
    "# Evaluate the model's performance\n",
    "accuracy = accuracy_score(y_test, y_pred)\n",
    "print(\"CatBoost Model Accuracy:\", accuracy)\n",
    "\n",
    "# Generate the classification report and confusion matrix\n",
    "print(\"Classification Report for CatBoost Model:\")\n",
    "print(classification_report(y_test, y_pred))\n",
    "\n",
    "print(\"Confusion Matrix for CatBoost Model:\")\n",
    "print(confusion_matrix(y_test, y_pred))\n"
   ]
  },
  {
   "cell_type": "code",
   "execution_count": 22,
   "metadata": {
    "scrolled": true
   },
   "outputs": [
    {
     "name": "stdout",
     "output_type": "stream",
     "text": [
      "Gradient Boosting Model Accuracy: 0.9678884968821792\n",
      "Classification Report for Gradient Boosting Model:\n",
      "              precision    recall  f1-score   support\n",
      "\n",
      "           0       1.00      0.97      0.98    193925\n",
      "           1       0.14      0.96      0.25      1083\n",
      "\n",
      "    accuracy                           0.97    195008\n",
      "   macro avg       0.57      0.96      0.62    195008\n",
      "weighted avg       0.99      0.97      0.98    195008\n",
      "\n",
      "Confusion Matrix for Gradient Boosting Model:\n",
      "[[187711   6214]\n",
      " [    48   1035]]\n"
     ]
    }
   ],
   "source": [
    "import pandas as pd\n",
    "from sklearn.model_selection import train_test_split\n",
    "from sklearn.tree import DecisionTreeClassifier\n",
    "from sklearn.ensemble import GradientBoostingClassifier\n",
    "from sklearn.metrics import accuracy_score, classification_report, confusion_matrix\n",
    "\n",
    "# Create the GradientBoostingClassifier object, using the decision tree model as the base estimator\n",
    "gradient_boosting_model = GradientBoostingClassifier(random_state=42)\n",
    "\n",
    "# Train the GradientBoostingClassifier on the training data\n",
    "gradient_boosting_model.fit(X_train_resampled, y_train_resampled)\n",
    "\n",
    "# Make predictions on the testing data\n",
    "y_pred = gradient_boosting_model.predict(X_test)\n",
    "\n",
    "# Evaluate the model's performance\n",
    "accuracy = accuracy_score(y_test, y_pred)\n",
    "print(\"Gradient Boosting Model Accuracy:\", accuracy)\n",
    "\n",
    "# Generate the classification report and confusion matrix\n",
    "print(\"Classification Report for Gradient Boosting Model:\")\n",
    "print(classification_report(y_test, y_pred))\n",
    "\n",
    "print(\"Confusion Matrix for Gradient Boosting Model:\")\n",
    "print(confusion_matrix(y_test, y_pred))\n"
   ]
  },
  {
   "cell_type": "code",
   "execution_count": 24,
   "metadata": {},
   "outputs": [
    {
     "name": "stdout",
     "output_type": "stream",
     "text": [
      "Requirement already satisfied: xgboost in c:\\users\\dell latitude 7240\\anaconda\\lib\\site-packages (1.7.6)\n",
      "Requirement already satisfied: numpy in c:\\users\\dell latitude 7240\\anaconda\\lib\\site-packages (from xgboost) (1.21.5)\n",
      "Requirement already satisfied: scipy in c:\\users\\dell latitude 7240\\anaconda\\lib\\site-packages (from xgboost) (1.7.3)\n",
      "Note: you may need to restart the kernel to use updated packages.\n"
     ]
    }
   ],
   "source": [
    "pip install xgboost\n"
   ]
  },
  {
   "cell_type": "code",
   "execution_count": 25,
   "metadata": {},
   "outputs": [
    {
     "name": "stdout",
     "output_type": "stream",
     "text": [
      "[13:00:32] WARNING: C:\\buildkite-agent\\builds\\buildkite-windows-cpu-autoscaling-group-i-0fdc6d574b9c0d168-1\\xgboost\\xgboost-ci-windows\\src\\learner.cc:767: \n",
      "Parameters: { \"base_estimator\" } are not used.\n",
      "\n",
      "XGBoost Model Accuracy: 0.9760984164752216\n",
      "Classification Report for XGBoost Model:\n",
      "              precision    recall  f1-score   support\n",
      "\n",
      "           0       1.00      0.98      0.99    193925\n",
      "           1       0.19      0.97      0.31      1083\n",
      "\n",
      "    accuracy                           0.98    195008\n",
      "   macro avg       0.59      0.97      0.65    195008\n",
      "weighted avg       1.00      0.98      0.98    195008\n",
      "\n",
      "Confusion Matrix for XGBoost Model:\n",
      "[[189296   4629]\n",
      " [    32   1051]]\n"
     ]
    }
   ],
   "source": [
    "import pandas as pd\n",
    "from sklearn.model_selection import train_test_split\n",
    "from sklearn.tree import DecisionTreeClassifier\n",
    "import xgboost as xgb\n",
    "from sklearn.metrics import accuracy_score, classification_report, confusion_matrix\n",
    "\n",
    "# Create the XGBClassifier object, using the decision tree model as the base estimator\n",
    "xgb_model = xgb.XGBClassifier(base_estimator=best_decision_tree_model, random_state=42)\n",
    "\n",
    "# Train the XGBClassifier on the training data\n",
    "xgb_model.fit(X_train_resampled, y_train_resampled)\n",
    "\n",
    "# Make predictions on the testing data\n",
    "y_pred = xgb_model.predict(X_test)\n",
    "\n",
    "# Evaluate the model's performance\n",
    "accuracy = accuracy_score(y_test, y_pred)\n",
    "print(\"XGBoost Model Accuracy:\", accuracy)\n",
    "\n",
    "# Generate the classification report and confusion matrix\n",
    "print(\"Classification Report for XGBoost Model:\")\n",
    "print(classification_report(y_test, y_pred))\n",
    "\n",
    "print(\"Confusion Matrix for XGBoost Model:\")\n",
    "print(confusion_matrix(y_test, y_pred))\n"
   ]
  },
  {
   "cell_type": "code",
   "execution_count": 26,
   "metadata": {},
   "outputs": [
    {
     "name": "stdout",
     "output_type": "stream",
     "text": [
      "Requirement already satisfied: lightgbm in c:\\users\\dell latitude 7240\\anaconda\\lib\\site-packages (4.0.0)Note: you may need to restart the kernel to use updated packages.\n",
      "\n",
      "Requirement already satisfied: scipy in c:\\users\\dell latitude 7240\\anaconda\\lib\\site-packages (from lightgbm) (1.7.3)\n",
      "Requirement already satisfied: numpy in c:\\users\\dell latitude 7240\\anaconda\\lib\\site-packages (from lightgbm) (1.21.5)\n"
     ]
    }
   ],
   "source": [
    "pip install lightgbm\n"
   ]
  },
  {
   "cell_type": "code",
   "execution_count": 27,
   "metadata": {},
   "outputs": [
    {
     "name": "stdout",
     "output_type": "stream",
     "text": [
      "[LightGBM] [Info] Number of positive: 4329, number of negative: 4329\n",
      "[LightGBM] [Warning] Auto-choosing row-wise multi-threading, the overhead of testing was 0.000384 seconds.\n",
      "You can set `force_row_wise=true` to remove the overhead.\n",
      "And if memory is not enough, you can set `force_col_wise=true`.\n",
      "[LightGBM] [Info] Total Bins 680\n",
      "[LightGBM] [Info] Number of data points in the train set: 8658, number of used features: 9\n",
      "[LightGBM] [Info] [binary:BoostFromScore]: pavg=0.500000 -> initscore=0.000000\n",
      "LightGBM Model Accuracy: 0.9771752953724976\n",
      "Classification Report for LightGBM Model:\n",
      "              precision    recall  f1-score   support\n",
      "\n",
      "           0       1.00      0.98      0.99    193925\n",
      "           1       0.19      0.97      0.32      1083\n",
      "\n",
      "    accuracy                           0.98    195008\n",
      "   macro avg       0.60      0.97      0.65    195008\n",
      "weighted avg       1.00      0.98      0.98    195008\n",
      "\n",
      "Confusion Matrix for LightGBM Model:\n",
      "[[189510   4415]\n",
      " [    36   1047]]\n"
     ]
    }
   ],
   "source": [
    "import pandas as pd\n",
    "from sklearn.model_selection import train_test_split\n",
    "from sklearn.tree import DecisionTreeClassifier\n",
    "import lightgbm as lgb\n",
    "from sklearn.metrics import accuracy_score, classification_report, confusion_matrix\n",
    "\n",
    "# Create the LGBMClassifier object, using the decision tree model as the base estimator\n",
    "lgb_model = lgb.LGBMClassifier(random_state=42)\n",
    "\n",
    "# Train the LGBMClassifier on the training data\n",
    "lgb_model.fit(X_train_resampled, y_train_resampled)\n",
    "\n",
    "# Make predictions on the testing data\n",
    "y_pred = lgb_model.predict(X_test)\n",
    "\n",
    "# Evaluate the model's performance\n",
    "accuracy = accuracy_score(y_test, y_pred)\n",
    "print(\"LightGBM Model Accuracy:\", accuracy)\n",
    "\n",
    "# Generate the classification report and confusion matrix\n",
    "print(\"Classification Report for LightGBM Model:\")\n",
    "print(classification_report(y_test, y_pred))\n",
    "\n",
    "print(\"Confusion Matrix for LightGBM Model:\")\n",
    "print(confusion_matrix(y_test, y_pred))\n"
   ]
  },
  {
   "cell_type": "code",
   "execution_count": 28,
   "metadata": {},
   "outputs": [
    {
     "name": "stdout",
     "output_type": "stream",
     "text": [
      "Random Forest Model Accuracy: 0.9743292582868395\n",
      "Classification Report for Random Forest Model:\n",
      "              precision    recall  f1-score   support\n",
      "\n",
      "           0       1.00      0.97      0.99    193925\n",
      "           1       0.17      0.96      0.29      1083\n",
      "\n",
      "    accuracy                           0.97    195008\n",
      "   macro avg       0.59      0.97      0.64    195008\n",
      "weighted avg       1.00      0.97      0.98    195008\n",
      "\n",
      "Confusion Matrix for Random Forest Model:\n",
      "[[188962   4963]\n",
      " [    43   1040]]\n"
     ]
    }
   ],
   "source": [
    "import pandas as pd\n",
    "from sklearn.model_selection import train_test_split, GridSearchCV\n",
    "from sklearn.ensemble import RandomForestClassifier\n",
    "from sklearn.metrics import accuracy_score, classification_report, confusion_matrix\n",
    "\n",
    "# Create the RandomForestClassifier object\n",
    "rf_model = RandomForestClassifier(random_state=42)\n",
    "\n",
    "param_grid = {\n",
    "    'n_estimators': [50, 100, 150],\n",
    "    'max_depth': [None, 5, 10, 20],\n",
    "    'min_samples_split': [2, 5, 10]\n",
    "}\n",
    "\n",
    "grid_search = GridSearchCV(estimator=rf_model, param_grid=param_grid, cv=5, n_jobs=-1)\n",
    "grid_search.fit(X_train_resampled, y_train_resampled)\n",
    "\n",
    "best_params = grid_search.best_params_\n",
    "best_rf_model = grid_search.best_estimator_\n",
    "\n",
    "# Make predictions on the testing data using the best model\n",
    "y_pred = best_rf_model.predict(X_test)\n",
    "\n",
    "# Evaluate the model's performance\n",
    "accuracy = accuracy_score(y_test, y_pred)\n",
    "print(\"Random Forest Model Accuracy:\", accuracy)\n",
    "\n",
    "# Generate the classification report and confusion matrix\n",
    "print(\"Classification Report for Random Forest Model:\")\n",
    "print(classification_report(y_test, y_pred))\n",
    "\n",
    "print(\"Confusion Matrix for Random Forest Model:\")\n",
    "print(confusion_matrix(y_test, y_pred))\n"
   ]
  },
  {
   "cell_type": "markdown",
   "metadata": {},
   "source": [
    "#    ORIGINAL DATASET ANALYSIS"
   ]
  },
  {
   "cell_type": "markdown",
   "metadata": {},
   "source": [
    "###### Base Model"
   ]
  },
  {
   "cell_type": "code",
   "execution_count": 23,
   "metadata": {},
   "outputs": [
    {
     "name": "stdout",
     "output_type": "stream",
     "text": [
      "Accuracy: 0.9977180423367247\n",
      "Classification Report:\n",
      "              precision    recall  f1-score   support\n",
      "\n",
      "           0       1.00      1.00      1.00    193925\n",
      "           1       0.78      0.82      0.80      1083\n",
      "\n",
      "    accuracy                           1.00    195008\n",
      "   macro avg       0.89      0.91      0.90    195008\n",
      "weighted avg       1.00      1.00      1.00    195008\n",
      "\n",
      "Confusion Matrix:\n",
      "[[193678    247]\n",
      " [   198    885]]\n"
     ]
    }
   ],
   "source": [
    "import pandas as pd\n",
    "from sklearn.model_selection import train_test_split\n",
    "from sklearn.tree import DecisionTreeClassifier\n",
    "from sklearn.metrics import accuracy_score, classification_report, confusion_matrix\n",
    "\n",
    "\n",
    "# Create the DecisionTreeClassifier object\n",
    "decision_tree_model = DecisionTreeClassifier(random_state=42)\n",
    "\n",
    "# Train the decision tree model using the training data\n",
    "decision_tree_model.fit(X_train, y_train)\n",
    "\n",
    "# Make predictions on the testing data\n",
    "y_pred = decision_tree_model.predict(X_test)\n",
    "\n",
    "# Evaluate the model's performance\n",
    "accuracy = accuracy_score(y_test, y_pred)\n",
    "print(\"Accuracy:\", accuracy)\n",
    "\n",
    "# Generate the classification report and confusion matrix\n",
    "print(\"Classification Report:\")\n",
    "print(classification_report(y_test, y_pred))\n",
    "\n",
    "print(\"Confusion Matrix:\")\n",
    "print(confusion_matrix(y_test, y_pred))"
   ]
  },
  {
   "cell_type": "code",
   "execution_count": 24,
   "metadata": {},
   "outputs": [
    {
     "name": "stdout",
     "output_type": "stream",
     "text": [
      "Best Hyperparameters: {'criterion': 'entropy', 'max_depth': 10, 'min_samples_leaf': 4, 'min_samples_split': 10, 'splitter': 'best'}\n",
      "Best Model Accuracy: 0.9986410813915326\n",
      "Classification Report for Best Model:\n",
      "              precision    recall  f1-score   support\n",
      "\n",
      "           0       1.00      1.00      1.00    193925\n",
      "           1       0.94      0.81      0.87      1083\n",
      "\n",
      "    accuracy                           1.00    195008\n",
      "   macro avg       0.97      0.90      0.93    195008\n",
      "weighted avg       1.00      1.00      1.00    195008\n",
      "\n",
      "Confusion Matrix for Best Model:\n",
      "[[193871     54]\n",
      " [   211    872]]\n"
     ]
    }
   ],
   "source": [
    "import pandas as pd\n",
    "from sklearn.model_selection import train_test_split, GridSearchCV\n",
    "from sklearn.tree import DecisionTreeClassifier\n",
    "from sklearn.metrics import accuracy_score, classification_report, confusion_matrix\n",
    "\n",
    "\n",
    "# Create the DecisionTreeClassifier object\n",
    "decision_tree_model = DecisionTreeClassifier(random_state=42)\n",
    "\n",
    "# Define the hyperparameters and their possible values to search over\n",
    "param_grid = {\n",
    "    'criterion': ['gini', 'entropy'],\n",
    "    'splitter': ['best', 'random'],\n",
    "    'max_depth': [None, 5, 10, 20],\n",
    "    'min_samples_split': [2, 5, 10],\n",
    "    'min_samples_leaf': [1, 2, 4]\n",
    "}\n",
    "\n",
    "# Create the GridSearchCV object with cross-validation\n",
    "grid_search = GridSearchCV(decision_tree_model, param_grid, cv=5, scoring='accuracy')\n",
    "\n",
    "# Fit the GridSearchCV object on the training data\n",
    "grid_search.fit(X_train, y_train)\n",
    "\n",
    "# Get the best hyperparameters found during the grid search\n",
    "best_params = grid_search.best_params_\n",
    "print(\"Best Hyperparameters:\", best_params)\n",
    "\n",
    "# Train the decision tree model with the best hyperparameters on the full training data\n",
    "best_decision_tree_model = DecisionTreeClassifier(**best_params, random_state=42)\n",
    "best_decision_tree_model.fit(X_train, y_train)\n",
    "\n",
    "# Make predictions on the testing data using the best model\n",
    "y_pred = best_decision_tree_model.predict(X_test)\n",
    "\n",
    "# Evaluate the best model's performance\n",
    "accuracy = accuracy_score(y_test, y_pred)\n",
    "print(\"Best Model Accuracy:\", accuracy)\n",
    "\n",
    "# Generate the classification report and confusion matrix for the best model\n",
    "print(\"Classification Report for Best Model:\")\n",
    "print(classification_report(y_test, y_pred))\n",
    "\n",
    "print(\"Confusion Matrix for Best Model:\")\n",
    "print(confusion_matrix(y_test, y_pred))\n"
   ]
  },
  {
   "cell_type": "code",
   "execution_count": 25,
   "metadata": {},
   "outputs": [
    {
     "name": "stdout",
     "output_type": "stream",
     "text": [
      "AdaBoost Model Accuracy: 0.9985692894650476\n",
      "Classification Report for AdaBoost Model:\n",
      "              precision    recall  f1-score   support\n",
      "\n",
      "           0       1.00      1.00      1.00    193925\n",
      "           1       0.95      0.78      0.86      1083\n",
      "\n",
      "    accuracy                           1.00    195008\n",
      "   macro avg       0.98      0.89      0.93    195008\n",
      "weighted avg       1.00      1.00      1.00    195008\n",
      "\n",
      "Confusion Matrix for AdaBoost Model:\n",
      "[[193885     40]\n",
      " [   239    844]]\n"
     ]
    }
   ],
   "source": [
    "import pandas as pd\n",
    "from sklearn.model_selection import train_test_split, GridSearchCV\n",
    "from sklearn.tree import DecisionTreeClassifier\n",
    "from sklearn.ensemble import AdaBoostClassifier\n",
    "from sklearn.metrics import accuracy_score, classification_report, confusion_matrix\n",
    "\n",
    "# Create the DecisionTreeClassifier object with the best hyperparameters found earlier\n",
    "best_decision_tree_model = DecisionTreeClassifier(criterion='entropy', splitter='best', \n",
    "                                                  max_depth=10, min_samples_split=10, min_samples_leaf=4, random_state=42)\n",
    "\n",
    "# Create the AdaBoostClassifier object, using the decision tree model as the base estimator\n",
    "adaboost_model = AdaBoostClassifier(base_estimator=best_decision_tree_model, random_state=42)\n",
    "\n",
    "# Train the AdaBoostClassifier on the training data\n",
    "adaboost_model.fit(X_train, y_train)\n",
    "\n",
    "# Make predictions on the testing data\n",
    "y_pred = adaboost_model.predict(X_test)\n",
    "\n",
    "# Evaluate the model's performance\n",
    "accuracy = accuracy_score(y_test, y_pred)\n",
    "print(\"AdaBoost Model Accuracy:\", accuracy)\n",
    "\n",
    "# Generate the classification report and confusion matrix\n",
    "print(\"Classification Report for AdaBoost Model:\")\n",
    "print(classification_report(y_test, y_pred))\n",
    "\n",
    "print(\"Confusion Matrix for AdaBoost Model:\")\n",
    "print(confusion_matrix(y_test, y_pred))"
   ]
  },
  {
   "cell_type": "code",
   "execution_count": 26,
   "metadata": {},
   "outputs": [
    {
     "name": "stdout",
     "output_type": "stream",
     "text": [
      "CatBoost Model Accuracy: 0.9987744092550049\n",
      "Classification Report for CatBoost Model:\n",
      "              precision    recall  f1-score   support\n",
      "\n",
      "           0       1.00      1.00      1.00    193925\n",
      "           1       0.94      0.83      0.88      1083\n",
      "\n",
      "    accuracy                           1.00    195008\n",
      "   macro avg       0.97      0.92      0.94    195008\n",
      "weighted avg       1.00      1.00      1.00    195008\n",
      "\n",
      "Confusion Matrix for CatBoost Model:\n",
      "[[193869     56]\n",
      " [   183    900]]\n"
     ]
    }
   ],
   "source": [
    "import pandas as pd\n",
    "from sklearn.model_selection import train_test_split\n",
    "from sklearn.tree import DecisionTreeClassifier\n",
    "from catboost import CatBoostClassifier\n",
    "from sklearn.metrics import accuracy_score, classification_report, confusion_matrix\n",
    "\n",
    "\n",
    "# Create the CatBoostClassifier object, using the decision tree model as the base estimator\n",
    "catboost_model = CatBoostClassifier(random_seed=42, verbose=False)\n",
    "\n",
    "# Train the CatBoostClassifier on the training data\n",
    "catboost_model.fit(X_train, y_train)\n",
    "\n",
    "# Make predictions on the testing data\n",
    "y_pred = catboost_model.predict(X_test)\n",
    "\n",
    "# Evaluate the model's performance\n",
    "accuracy = accuracy_score(y_test, y_pred)\n",
    "print(\"CatBoost Model Accuracy:\", accuracy)\n",
    "\n",
    "# Generate the classification report and confusion matrix\n",
    "print(\"Classification Report for CatBoost Model:\")\n",
    "print(classification_report(y_test, y_pred))\n",
    "\n",
    "print(\"Confusion Matrix for CatBoost Model:\")\n",
    "print(confusion_matrix(y_test, y_pred))"
   ]
  },
  {
   "cell_type": "code",
   "execution_count": 27,
   "metadata": {},
   "outputs": [
    {
     "name": "stdout",
     "output_type": "stream",
     "text": [
      "Gradient Boosting Model Accuracy: 0.9957540203478832\n",
      "Classification Report for Gradient Boosting Model:\n",
      "              precision    recall  f1-score   support\n",
      "\n",
      "           0       1.00      1.00      1.00    193925\n",
      "           1       0.78      0.33      0.46      1083\n",
      "\n",
      "    accuracy                           1.00    195008\n",
      "   macro avg       0.89      0.66      0.73    195008\n",
      "weighted avg       1.00      1.00      0.99    195008\n",
      "\n",
      "Confusion Matrix for Gradient Boosting Model:\n",
      "[[193823    102]\n",
      " [   726    357]]\n"
     ]
    }
   ],
   "source": [
    "import pandas as pd\n",
    "from sklearn.model_selection import train_test_split\n",
    "from sklearn.tree import DecisionTreeClassifier\n",
    "from sklearn.ensemble import GradientBoostingClassifier\n",
    "from sklearn.metrics import accuracy_score, classification_report, confusion_matrix\n",
    "\n",
    "# Create the GradientBoostingClassifier object, using the decision tree model as the base estimator\n",
    "gradient_boosting_model = GradientBoostingClassifier(random_state=42)\n",
    "\n",
    "# Train the GradientBoostingClassifier on the training data\n",
    "gradient_boosting_model.fit(X_train, y_train)\n",
    "\n",
    "# Make predictions on the testing data\n",
    "y_pred = gradient_boosting_model.predict(X_test)\n",
    "\n",
    "# Evaluate the model's performance\n",
    "accuracy = accuracy_score(y_test, y_pred)\n",
    "print(\"Gradient Boosting Model Accuracy:\", accuracy)\n",
    "\n",
    "# Generate the classification report and confusion matrix\n",
    "print(\"Classification Report for Gradient Boosting Model:\")\n",
    "print(classification_report(y_test, y_pred))\n",
    "\n",
    "print(\"Confusion Matrix for Gradient Boosting Model:\")\n",
    "print(confusion_matrix(y_test, y_pred))"
   ]
  },
  {
   "cell_type": "code",
   "execution_count": 28,
   "metadata": {},
   "outputs": [
    {
     "name": "stdout",
     "output_type": "stream",
     "text": [
      "[12:35:12] WARNING: C:\\buildkite-agent\\builds\\buildkite-windows-cpu-autoscaling-group-i-0fdc6d574b9c0d168-1\\xgboost\\xgboost-ci-windows\\src\\learner.cc:767: \n",
      "Parameters: { \"base_estimator\" } are not used.\n",
      "\n",
      "XGBoost Model Accuracy: 0.9987333852970135\n",
      "Classification Report for XGBoost Model:\n",
      "              precision    recall  f1-score   support\n",
      "\n",
      "           0       1.00      1.00      1.00    193925\n",
      "           1       0.94      0.82      0.88      1083\n",
      "\n",
      "    accuracy                           1.00    195008\n",
      "   macro avg       0.97      0.91      0.94    195008\n",
      "weighted avg       1.00      1.00      1.00    195008\n",
      "\n",
      "Confusion Matrix for XGBoost Model:\n",
      "[[193873     52]\n",
      " [   195    888]]\n"
     ]
    }
   ],
   "source": [
    "import pandas as pd\n",
    "from sklearn.model_selection import train_test_split\n",
    "from sklearn.tree import DecisionTreeClassifier\n",
    "import xgboost as xgb\n",
    "from sklearn.metrics import accuracy_score, classification_report, confusion_matrix\n",
    "\n",
    "# Create the XGBClassifier object, using the decision tree model as the base estimator\n",
    "xgb_model = xgb.XGBClassifier(base_estimator=best_decision_tree_model, random_state=42)\n",
    "\n",
    "# Train the XGBClassifier on the training data\n",
    "xgb_model.fit(X_train, y_train)\n",
    "\n",
    "# Make predictions on the testing data\n",
    "y_pred = xgb_model.predict(X_test)\n",
    "\n",
    "# Evaluate the model's performance\n",
    "accuracy = accuracy_score(y_test, y_pred)\n",
    "print(\"XGBoost Model Accuracy:\", accuracy)\n",
    "\n",
    "# Generate the classification report and confusion matrix\n",
    "print(\"Classification Report for XGBoost Model:\")\n",
    "print(classification_report(y_test, y_pred))\n",
    "\n",
    "print(\"Confusion Matrix for XGBoost Model:\")\n",
    "print(confusion_matrix(y_test, y_pred))"
   ]
  },
  {
   "cell_type": "code",
   "execution_count": 29,
   "metadata": {},
   "outputs": [
    {
     "name": "stdout",
     "output_type": "stream",
     "text": [
      "[LightGBM] [Info] Number of positive: 4329, number of negative: 775699\n",
      "[LightGBM] [Warning] Auto-choosing row-wise multi-threading, the overhead of testing was 0.016492 seconds.\n",
      "You can set `force_row_wise=true` to remove the overhead.\n",
      "And if memory is not enough, you can set `force_col_wise=true`.\n",
      "[LightGBM] [Info] Total Bins 679\n",
      "[LightGBM] [Info] Number of data points in the train set: 780028, number of used features: 9\n",
      "[LightGBM] [Info] [binary:BoostFromScore]: pavg=0.005550 -> initscore=-5.188428\n",
      "[LightGBM] [Info] Start training from score -5.188428\n",
      "LightGBM Model Accuracy: 0.9975488185100099\n",
      "Classification Report for LightGBM Model:\n",
      "              precision    recall  f1-score   support\n",
      "\n",
      "           0       1.00      1.00      1.00    193925\n",
      "           1       0.79      0.76      0.78      1083\n",
      "\n",
      "    accuracy                           1.00    195008\n",
      "   macro avg       0.89      0.88      0.89    195008\n",
      "weighted avg       1.00      1.00      1.00    195008\n",
      "\n",
      "Confusion Matrix for LightGBM Model:\n",
      "[[193703    222]\n",
      " [   256    827]]\n"
     ]
    }
   ],
   "source": [
    "import pandas as pd\n",
    "from sklearn.model_selection import train_test_split\n",
    "from sklearn.tree import DecisionTreeClassifier\n",
    "import lightgbm as lgb\n",
    "from sklearn.metrics import accuracy_score, classification_report, confusion_matrix\n",
    "\n",
    "# Create the LGBMClassifier object, using the decision tree model as the base estimator\n",
    "lgb_model = lgb.LGBMClassifier(random_state=42)\n",
    "\n",
    "# Train the LGBMClassifier on the training data\n",
    "lgb_model.fit(X_train, y_train)\n",
    "\n",
    "# Make predictions on the testing data\n",
    "y_pred = lgb_model.predict(X_test)\n",
    "\n",
    "# Evaluate the model's performance\n",
    "accuracy = accuracy_score(y_test, y_pred)\n",
    "print(\"LightGBM Model Accuracy:\", accuracy)\n",
    "\n",
    "# Generate the classification report and confusion matrix\n",
    "print(\"Classification Report for LightGBM Model:\")\n",
    "print(classification_report(y_test, y_pred))\n",
    "\n",
    "print(\"Confusion Matrix for LightGBM Model:\")\n",
    "print(confusion_matrix(y_test, y_pred))"
   ]
  },
  {
   "cell_type": "markdown",
   "metadata": {},
   "source": [
    "# OVERSAMPLING DATASET"
   ]
  },
  {
   "cell_type": "code",
   "execution_count": 31,
   "metadata": {},
   "outputs": [
    {
     "name": "stdout",
     "output_type": "stream",
     "text": [
      "Shape of the oversampled data: (1551398, 10)\n"
     ]
    }
   ],
   "source": [
    "import pandas as pd\n",
    "from sklearn.model_selection import train_test_split\n",
    "from imblearn.over_sampling import SMOTE\n",
    "\n",
    "\n",
    "# Create the SMOTE object\n",
    "smote = SMOTE(random_state=42)\n",
    "\n",
    "# Perform oversampling on the training data\n",
    "X_train_oversampled, y_train_oversampled = smote.fit_resample(X_train, y_train)\n",
    "\n",
    "# Create a new DataFrame with the oversampled data\n",
    "oversampled_train_data = pd.concat([X_train_oversampled, y_train_oversampled], axis=1)\n",
    "\n",
    "# Print the shape of the oversampled data to verify the balance\n",
    "print(\"Shape of the oversampled data:\", oversampled_train_data.shape)\n"
   ]
  },
  {
   "cell_type": "code",
   "execution_count": 32,
   "metadata": {},
   "outputs": [
    {
     "name": "stdout",
     "output_type": "stream",
     "text": [
      "Best Model Accuracy: 0.9677295290449622\n",
      "Classification Report for Best Model:\n",
      "              precision    recall  f1-score   support\n",
      "\n",
      "           0       1.00      0.97      0.98    193925\n",
      "           1       0.14      0.91      0.24      1083\n",
      "\n",
      "    accuracy                           0.97    195008\n",
      "   macro avg       0.57      0.94      0.61    195008\n",
      "weighted avg       0.99      0.97      0.98    195008\n",
      "\n",
      "Confusion Matrix for Best Model:\n",
      "[[187726   6199]\n",
      " [    94    989]]\n"
     ]
    }
   ],
   "source": [
    "import pandas as pd\n",
    "from sklearn.model_selection import train_test_split, GridSearchCV\n",
    "from sklearn.tree import DecisionTreeClassifier\n",
    "from sklearn.metrics import accuracy_score, classification_report, confusion_matrix\n",
    "\n",
    "\n",
    "# Create the DecisionTreeClassifier object\n",
    "decision_tree_model = DecisionTreeClassifier(random_state=42)\n",
    "\n",
    "# Train the decision tree model with the best hyperparameters on the full training data\n",
    "best_decision_tree_model = DecisionTreeClassifier(criterion='entropy', splitter='best', \n",
    "                                                  max_depth=10, min_samples_split=2, min_samples_leaf=1, random_state=42)\n",
    "\n",
    "best_decision_tree_model.fit(X_train_oversampled, y_train_oversampled)\n",
    "\n",
    "# Make predictions on the testing data using the best model\n",
    "y_pred = best_decision_tree_model.predict(X_test)\n",
    "\n",
    "# Evaluate the best model's performance\n",
    "accuracy = accuracy_score(y_test, y_pred)\n",
    "print(\"Best Model Accuracy:\", accuracy)\n",
    "\n",
    "# Generate the classification report and confusion matrix for the best model\n",
    "print(\"Classification Report for Best Model:\")\n",
    "print(classification_report(y_test, y_pred))\n",
    "\n",
    "print(\"Confusion Matrix for Best Model:\")\n",
    "print(confusion_matrix(y_test, y_pred))\n"
   ]
  },
  {
   "cell_type": "code",
   "execution_count": 33,
   "metadata": {},
   "outputs": [
    {
     "name": "stdout",
     "output_type": "stream",
     "text": [
      "AdaBoost Model Accuracy: 0.9914670167377748\n",
      "Classification Report for AdaBoost Model:\n",
      "              precision    recall  f1-score   support\n",
      "\n",
      "           0       1.00      0.99      1.00    193925\n",
      "           1       0.37      0.79      0.51      1083\n",
      "\n",
      "    accuracy                           0.99    195008\n",
      "   macro avg       0.69      0.89      0.75    195008\n",
      "weighted avg       1.00      0.99      0.99    195008\n",
      "\n",
      "Confusion Matrix for AdaBoost Model:\n",
      "[[192486   1439]\n",
      " [   225    858]]\n"
     ]
    }
   ],
   "source": [
    "import pandas as pd\n",
    "from sklearn.model_selection import train_test_split, GridSearchCV\n",
    "from sklearn.tree import DecisionTreeClassifier\n",
    "from sklearn.ensemble import AdaBoostClassifier\n",
    "from sklearn.metrics import accuracy_score, classification_report, confusion_matrix\n",
    "\n",
    "# Create the DecisionTreeClassifier object with the best hyperparameters found earlier\n",
    "best_decision_tree_model = DecisionTreeClassifier(criterion='entropy', splitter='best', \n",
    "                                                  max_depth=10, min_samples_split=10, min_samples_leaf=4, random_state=42)\n",
    "\n",
    "# Create the AdaBoostClassifier object, using the decision tree model as the base estimator\n",
    "adaboost_model = AdaBoostClassifier(base_estimator=best_decision_tree_model, random_state=42)\n",
    "\n",
    "# Train the AdaBoostClassifier on the training data\n",
    "adaboost_model.fit(X_train_oversampled, y_train_oversampled)\n",
    "\n",
    "# Make predictions on the testing data\n",
    "y_pred = adaboost_model.predict(X_test)\n",
    "\n",
    "# Evaluate the model's performance\n",
    "accuracy = accuracy_score(y_test, y_pred)\n",
    "print(\"AdaBoost Model Accuracy:\", accuracy)\n",
    "\n",
    "# Generate the classification report and confusion matrix\n",
    "print(\"Classification Report for AdaBoost Model:\")\n",
    "print(classification_report(y_test, y_pred))\n",
    "\n",
    "print(\"Confusion Matrix for AdaBoost Model:\")\n",
    "print(confusion_matrix(y_test, y_pred))"
   ]
  },
  {
   "cell_type": "code",
   "execution_count": 19,
   "metadata": {},
   "outputs": [
    {
     "ename": "NameError",
     "evalue": "name 'X_train_oversampled' is not defined",
     "output_type": "error",
     "traceback": [
      "\u001b[1;31m---------------------------------------------------------------------------\u001b[0m",
      "\u001b[1;31mNameError\u001b[0m                                 Traceback (most recent call last)",
      "Input \u001b[1;32mIn [19]\u001b[0m, in \u001b[0;36m<cell line: 12>\u001b[1;34m()\u001b[0m\n\u001b[0;32m      9\u001b[0m catboost_model \u001b[38;5;241m=\u001b[39m CatBoostClassifier(random_seed\u001b[38;5;241m=\u001b[39m\u001b[38;5;241m42\u001b[39m, verbose\u001b[38;5;241m=\u001b[39m\u001b[38;5;28;01mFalse\u001b[39;00m)\n\u001b[0;32m     11\u001b[0m \u001b[38;5;66;03m# Train the CatBoostClassifier on the training data\u001b[39;00m\n\u001b[1;32m---> 12\u001b[0m catboost_model\u001b[38;5;241m.\u001b[39mfit(\u001b[43mX_train_oversampled\u001b[49m, y_train_oversampled)\n\u001b[0;32m     14\u001b[0m \u001b[38;5;66;03m# Make predictions on the testing data\u001b[39;00m\n\u001b[0;32m     15\u001b[0m y_pred \u001b[38;5;241m=\u001b[39m catboost_model\u001b[38;5;241m.\u001b[39mpredict(X_test)\n",
      "\u001b[1;31mNameError\u001b[0m: name 'X_train_oversampled' is not defined"
     ]
    }
   ],
   "source": [
    "import pandas as pd\n",
    "from sklearn.model_selection import train_test_split\n",
    "from sklearn.tree import DecisionTreeClassifier\n",
    "from catboost import CatBoostClassifier\n",
    "from sklearn.metrics import accuracy_score, classification_report, confusion_matrix\n",
    "\n",
    "\n",
    "# Create the CatBoostClassifier object, using the decision tree model as the base estimator\n",
    "catboost_model = CatBoostClassifier(random_seed=42, verbose=False)\n",
    "\n",
    "# Train the CatBoostClassifier on the training data\n",
    "catboost_model.fit(X_train_oversampled, y_train_oversampled)\n",
    "\n",
    "# Make predictions on the testing data\n",
    "y_pred = catboost_model.predict(X_test)\n",
    "\n",
    "# Evaluate the model's performance\n",
    "accuracy = accuracy_score(y_test, y_pred)\n",
    "print(\"CatBoost Model Accuracy:\", accuracy)\n",
    "\n",
    "# Generate the classification report and confusion matrix\n",
    "print(\"Classification Report for CatBoost Model:\")\n",
    "print(classification_report(y_test, y_pred))\n",
    "\n",
    "print(\"Confusion Matrix for CatBoost Model:\")\n",
    "print(confusion_matrix(y_test, y_pred))"
   ]
  },
  {
   "cell_type": "code",
   "execution_count": null,
   "metadata": {},
   "outputs": [],
   "source": [
    "import pandas as pd\n",
    "from sklearn.model_selection import train_test_split\n",
    "from sklearn.tree import DecisionTreeClassifier\n",
    "from sklearn.ensemble import GradientBoostingClassifier\n",
    "from sklearn.metrics import accuracy_score, classification_report, confusion_matrix\n",
    "\n",
    "# Create the GradientBoostingClassifier object, using the decision tree model as the base estimator\n",
    "gradient_boosting_model = GradientBoostingClassifier(random_state=42)\n",
    "\n",
    "# Train the GradientBoostingClassifier on the training data\n",
    "gradient_boosting_model.fit(X_train_oversampled, y_train_oversampled)\n",
    "\n",
    "# Make predictions on the testing data\n",
    "y_pred = gradient_boosting_model.predict(X_test)\n",
    "\n",
    "# Evaluate the model's performance\n",
    "accuracy = accuracy_score(y_test, y_pred)\n",
    "print(\"Gradient Boosting Model Accuracy:\", accuracy)\n",
    "\n",
    "# Generate the classification report and confusion matrix\n",
    "print(\"Classification Report for Gradient Boosting Model:\")\n",
    "print(classification_report(y_test, y_pred))\n",
    "\n",
    "print(\"Confusion Matrix for Gradient Boosting Model:\")\n",
    "print(confusion_matrix(y_test, y_pred))"
   ]
  },
  {
   "cell_type": "code",
   "execution_count": null,
   "metadata": {},
   "outputs": [],
   "source": [
    "import pandas as pd\n",
    "from sklearn.model_selection import train_test_split\n",
    "from sklearn.tree import DecisionTreeClassifier\n",
    "import xgboost as xgb\n",
    "from sklearn.metrics import accuracy_score, classification_report, confusion_matrix\n",
    "\n",
    "# Create the XGBClassifier object, using the decision tree model as the base estimator\n",
    "xgb_model = xgb.XGBClassifier(base_estimator=best_decision_tree_model, random_state=42)\n",
    "\n",
    "# Train the XGBClassifier on the training data\n",
    "xgb_model.fit(X_train_oversampled, y_train_oversampled)\n",
    "\n",
    "# Make predictions on the testing data\n",
    "y_pred = xgb_model.predict(X_test)\n",
    "\n",
    "# Evaluate the model's performance\n",
    "accuracy = accuracy_score(y_test, y_pred)\n",
    "print(\"XGBoost Model Accuracy:\", accuracy)\n",
    "\n",
    "# Generate the classification report and confusion matrix\n",
    "print(\"Classification Report for XGBoost Model:\")\n",
    "print(classification_report(y_test, y_pred))\n",
    "\n",
    "print(\"Confusion Matrix for XGBoost Model:\")\n",
    "print(confusion_matrix(y_test, y_pred))"
   ]
  },
  {
   "cell_type": "code",
   "execution_count": null,
   "metadata": {},
   "outputs": [],
   "source": [
    "import pandas as pd\n",
    "from sklearn.model_selection import train_test_split\n",
    "from sklearn.tree import DecisionTreeClassifier\n",
    "import lightgbm as lgb\n",
    "from sklearn.metrics import accuracy_score, classification_report, confusion_matrix\n",
    "\n",
    "# Create the LGBMClassifier object, using the decision tree model as the base estimator\n",
    "lgb_model = lgb.LGBMClassifier(random_state=42)\n",
    "\n",
    "# Train the LGBMClassifier on the training data\n",
    "lgb_model.fit(X_train_oversampled, y_train_oversampled)\n",
    "\n",
    "# Make predictions on the testing data\n",
    "y_pred = lgb_model.predict(X_test)\n",
    "\n",
    "# Evaluate the model's performance\n",
    "accuracy = accuracy_score(y_test, y_pred)\n",
    "print(\"LightGBM Model Accuracy:\", accuracy)\n",
    "\n",
    "# Generate the classification report and confusion matrix\n",
    "print(\"Classification Report for LightGBM Model:\")\n",
    "print(classification_report(y_test, y_pred))\n",
    "\n",
    "print(\"Confusion Matrix for LightGBM Model:\")\n",
    "print(confusion_matrix(y_test, y_pred))"
   ]
  },
  {
   "cell_type": "markdown",
   "metadata": {},
   "source": [
    "# HYBRID-SAMPLING DATASET"
   ]
  },
  {
   "cell_type": "code",
   "execution_count": 35,
   "metadata": {},
   "outputs": [
    {
     "name": "stdout",
     "output_type": "stream",
     "text": [
      "Shape of the hybrid sampled data: (1374591, 10)\n"
     ]
    }
   ],
   "source": [
    "import pandas as pd\n",
    "from sklearn.model_selection import train_test_split\n",
    "from imblearn.combine import SMOTEENN  # Import SMOTEENN class for the hybrid method\n",
    "\n",
    "\n",
    "# Create the SMOTE-ENN object\n",
    "smote_enn = SMOTEENN(random_state=42)\n",
    "\n",
    "# Perform SMOTE-ENN on the training data\n",
    "X_train_hybridsampled, y_train_hybridsampled = smote_enn.fit_resample(X_train, y_train)\n",
    "\n",
    "# Create a new DataFrame with the resampled data\n",
    "hybridsampled_train_data = pd.concat([X_train_hybridsampled, y_train_hybridsampled], axis=1)\n",
    "\n",
    "# Print the shape of the resampled data to verify the balance\n",
    "print(\"Shape of the hybrid sampled data:\", hybridsampled_train_data.shape)\n"
   ]
  },
  {
   "cell_type": "code",
   "execution_count": 36,
   "metadata": {},
   "outputs": [
    {
     "name": "stdout",
     "output_type": "stream",
     "text": [
      "Best Model Accuracy: 0.9643655644896619\n",
      "Classification Report for Best Model:\n",
      "              precision    recall  f1-score   support\n",
      "\n",
      "           0       1.00      0.96      0.98    193925\n",
      "           1       0.12      0.90      0.22      1083\n",
      "\n",
      "    accuracy                           0.96    195008\n",
      "   macro avg       0.56      0.93      0.60    195008\n",
      "weighted avg       0.99      0.96      0.98    195008\n",
      "\n",
      "Confusion Matrix for Best Model:\n",
      "[[187088   6837]\n",
      " [   112    971]]\n"
     ]
    }
   ],
   "source": [
    "import pandas as pd\n",
    "from sklearn.model_selection import train_test_split, GridSearchCV\n",
    "from sklearn.tree import DecisionTreeClassifier\n",
    "from sklearn.metrics import accuracy_score, classification_report, confusion_matrix\n",
    "\n",
    "\n",
    "# Create the DecisionTreeClassifier object\n",
    "decision_tree_model = DecisionTreeClassifier(random_state=42)\n",
    "\n",
    "# Train the decision tree model with the best hyperparameters on the full training data\n",
    "best_decision_tree_model = DecisionTreeClassifier(criterion='entropy', splitter='best', \n",
    "                                                  max_depth=10, min_samples_split=2, min_samples_leaf=1, random_state=42)\n",
    "\n",
    "best_decision_tree_model.fit(X_train_hybridsampled, y_train_hybridsampled)\n",
    "\n",
    "# Make predictions on the testing data using the best model\n",
    "y_pred = best_decision_tree_model.predict(X_test)\n",
    "\n",
    "# Evaluate the best model's performance\n",
    "accuracy = accuracy_score(y_test, y_pred)\n",
    "print(\"Best Model Accuracy:\", accuracy)\n",
    "\n",
    "# Generate the classification report and confusion matrix for the best model\n",
    "print(\"Classification Report for Best Model:\")\n",
    "print(classification_report(y_test, y_pred))\n",
    "\n",
    "print(\"Confusion Matrix for Best Model:\")\n",
    "print(confusion_matrix(y_test, y_pred))"
   ]
  },
  {
   "cell_type": "code",
   "execution_count": null,
   "metadata": {},
   "outputs": [],
   "source": [
    "import pandas as pd\n",
    "from sklearn.model_selection import train_test_split, GridSearchCV\n",
    "from sklearn.tree import DecisionTreeClassifier\n",
    "from sklearn.ensemble import AdaBoostClassifier\n",
    "from sklearn.metrics import accuracy_score, classification_report, confusion_matrix\n",
    "\n",
    "# Create the DecisionTreeClassifier object with the best hyperparameters found earlier\n",
    "best_decision_tree_model = DecisionTreeClassifier(criterion='entropy', splitter='best', \n",
    "                                                  max_depth=10, min_samples_split=10, min_samples_leaf=4, random_state=42)\n",
    "\n",
    "# Create the AdaBoostClassifier object, using the decision tree model as the base estimator\n",
    "adaboost_model = AdaBoostClassifier(base_estimator=best_decision_tree_model, random_state=42)\n",
    "\n",
    "# Train the AdaBoostClassifier on the training data\n",
    "adaboost_model.fit(X_train_hybridsampled, y_train_hybridsampled)\n",
    "\n",
    "# Make predictions on the testing data\n",
    "y_pred = adaboost_model.predict(X_test)\n",
    "\n",
    "# Evaluate the model's performance\n",
    "accuracy = accuracy_score(y_test, y_pred)\n",
    "print(\"AdaBoost Model Accuracy:\", accuracy)\n",
    "\n",
    "# Generate the classification report and confusion matrix\n",
    "print(\"Classification Report for AdaBoost Model:\")\n",
    "print(classification_report(y_test, y_pred))\n",
    "\n",
    "print(\"Confusion Matrix for AdaBoost Model:\")\n",
    "print(confusion_matrix(y_test, y_pred))"
   ]
  },
  {
   "cell_type": "code",
   "execution_count": null,
   "metadata": {},
   "outputs": [],
   "source": [
    "import pandas as pd\n",
    "from sklearn.model_selection import train_test_split\n",
    "from sklearn.tree import DecisionTreeClassifier\n",
    "from catboost import CatBoostClassifier\n",
    "from sklearn.metrics import accuracy_score, classification_report, confusion_matrix\n",
    "\n",
    "\n",
    "# Create the CatBoostClassifier object, using the decision tree model as the base estimator\n",
    "catboost_model = CatBoostClassifier(random_seed=42, verbose=False)\n",
    "\n",
    "# Train the CatBoostClassifier on the training data\n",
    "catboost_model.fit(X_train_hybridsampled, y_train_hybridsampled)\n",
    "\n",
    "# Make predictions on the testing data\n",
    "y_pred = catboost_model.predict(X_test)\n",
    "\n",
    "# Evaluate the model's performance\n",
    "accuracy = accuracy_score(y_test, y_pred)\n",
    "print(\"CatBoost Model Accuracy:\", accuracy)\n",
    "\n",
    "# Generate the classification report and confusion matrix\n",
    "print(\"Classification Report for CatBoost Model:\")\n",
    "print(classification_report(y_test, y_pred))\n",
    "\n",
    "print(\"Confusion Matrix for CatBoost Model:\")\n",
    "print(confusion_matrix(y_test, y_pred))"
   ]
  },
  {
   "cell_type": "code",
   "execution_count": null,
   "metadata": {},
   "outputs": [],
   "source": [
    "import pandas as pd\n",
    "from sklearn.model_selection import train_test_split\n",
    "from sklearn.tree import DecisionTreeClassifier\n",
    "from sklearn.ensemble import GradientBoostingClassifier\n",
    "from sklearn.metrics import accuracy_score, classification_report, confusion_matrix\n",
    "\n",
    "# Create the GradientBoostingClassifier object, using the decision tree model as the base estimator\n",
    "gradient_boosting_model = GradientBoostingClassifier(random_state=42)\n",
    "\n",
    "# Train the GradientBoostingClassifier on the training data\n",
    "gradient_boosting_model.fit(X_train_hybridsampled, y_train_hybridsampled)\n",
    "\n",
    "# Make predictions on the testing data\n",
    "y_pred = gradient_boosting_model.predict(X_test)\n",
    "\n",
    "# Evaluate the model's performance\n",
    "accuracy = accuracy_score(y_test, y_pred)\n",
    "print(\"Gradient Boosting Model Accuracy:\", accuracy)\n",
    "\n",
    "# Generate the classification report and confusion matrix\n",
    "print(\"Classification Report for Gradient Boosting Model:\")\n",
    "print(classification_report(y_test, y_pred))\n",
    "\n",
    "print(\"Confusion Matrix for Gradient Boosting Model:\")\n",
    "print(confusion_matrix(y_test, y_pred))"
   ]
  },
  {
   "cell_type": "code",
   "execution_count": null,
   "metadata": {},
   "outputs": [],
   "source": [
    "import pandas as pd\n",
    "from sklearn.model_selection import train_test_split\n",
    "from sklearn.tree import DecisionTreeClassifier\n",
    "import xgboost as xgb\n",
    "from sklearn.metrics import accuracy_score, classification_report, confusion_matrix\n",
    "\n",
    "# Create the XGBClassifier object, using the decision tree model as the base estimator\n",
    "xgb_model = xgb.XGBClassifier(base_estimator=best_decision_tree_model, random_state=42)\n",
    "\n",
    "# Train the XGBClassifier on the training data\n",
    "xgb_model.fit(X_train_hybridsampled, y_train_hybridsampled)\n",
    "\n",
    "# Make predictions on the testing data\n",
    "y_pred = xgb_model.predict(X_test)\n",
    "\n",
    "# Evaluate the model's performance\n",
    "accuracy = accuracy_score(y_test, y_pred)\n",
    "print(\"XGBoost Model Accuracy:\", accuracy)\n",
    "\n",
    "# Generate the classification report and confusion matrix\n",
    "print(\"Classification Report for XGBoost Model:\")\n",
    "print(classification_report(y_test, y_pred))\n",
    "\n",
    "print(\"Confusion Matrix for XGBoost Model:\")\n",
    "print(confusion_matrix(y_test, y_pred))"
   ]
  },
  {
   "cell_type": "code",
   "execution_count": null,
   "metadata": {},
   "outputs": [],
   "source": [
    "import pandas as pd\n",
    "from sklearn.model_selection import train_test_split\n",
    "from sklearn.tree import DecisionTreeClassifier\n",
    "import lightgbm as lgb\n",
    "from sklearn.metrics import accuracy_score, classification_report, confusion_matrix\n",
    "\n",
    "# Create the LGBMClassifier object, using the decision tree model as the base estimator\n",
    "lgb_model = lgb.LGBMClassifier(random_state=42)\n",
    "\n",
    "# Train the LGBMClassifier on the training data\n",
    "lgb_model.fit(X_train_hybridsampled, y_train_hybridsampled)\n",
    "\n",
    "# Make predictions on the testing data\n",
    "y_pred = lgb_model.predict(X_test)\n",
    "\n",
    "# Evaluate the model's performance\n",
    "accuracy = accuracy_score(y_test, y_pred)\n",
    "print(\"LightGBM Model Accuracy:\", accuracy)\n",
    "\n",
    "# Generate the classification report and confusion matrix\n",
    "print(\"Classification Report for LightGBM Model:\")\n",
    "print(classification_report(y_test, y_pred))\n",
    "\n",
    "print(\"Confusion Matrix for LightGBM Model:\")\n",
    "print(confusion_matrix(y_test, y_pred))"
   ]
  },
  {
   "cell_type": "code",
   "execution_count": 35,
   "metadata": {},
   "outputs": [
    {
     "ename": "TypeError",
     "evalue": "predict_proba() missing 1 required positional argument: 'X'",
     "output_type": "error",
     "traceback": [
      "\u001b[1;31m---------------------------------------------------------------------------\u001b[0m",
      "\u001b[1;31mTypeError\u001b[0m                                 Traceback (most recent call last)",
      "Input \u001b[1;32mIn [35]\u001b[0m, in \u001b[0;36m<cell line: 5>\u001b[1;34m()\u001b[0m\n\u001b[0;32m      2\u001b[0m \u001b[38;5;28;01mimport\u001b[39;00m \u001b[38;5;21;01mmatplotlib\u001b[39;00m\u001b[38;5;21;01m.\u001b[39;00m\u001b[38;5;21;01mpyplot\u001b[39;00m \u001b[38;5;28;01mas\u001b[39;00m \u001b[38;5;21;01mplt\u001b[39;00m\n\u001b[0;32m      4\u001b[0m \u001b[38;5;66;03m# Get the predicted probabilities for the positive class (fraud)\u001b[39;00m\n\u001b[1;32m----> 5\u001b[0m y_pred_proba \u001b[38;5;241m=\u001b[39m \u001b[43mDecisionTreeClassifier\u001b[49m\u001b[38;5;241;43m.\u001b[39;49m\u001b[43mpredict_proba\u001b[49m\u001b[43m(\u001b[49m\u001b[43mX_test\u001b[49m\u001b[43m)\u001b[49m[:, \u001b[38;5;241m1\u001b[39m]\n\u001b[0;32m      7\u001b[0m \u001b[38;5;66;03m# Calculate the ROC curve\u001b[39;00m\n\u001b[0;32m      8\u001b[0m fpr, tpr, thresholds \u001b[38;5;241m=\u001b[39m roc_curve(y_test, y_pred_proba)\n",
      "\u001b[1;31mTypeError\u001b[0m: predict_proba() missing 1 required positional argument: 'X'"
     ]
    }
   ],
   "source": [
    "from sklearn.metrics import roc_curve, roc_auc_score\n",
    "import matplotlib.pyplot as plt\n",
    "\n",
    "# Get the predicted probabilities for the positive class (fraud)\n",
    "y_pred_proba = DecisionTreeClassifier.predict_proba(X_test)[:, 1]\n",
    "\n",
    "# Calculate the ROC curve\n",
    "fpr, tpr, thresholds = roc_curve(y_test, y_pred_proba)\n",
    "\n",
    "# Calculate the AUC (Area Under the Curve)\n",
    "auc = roc_auc_score(y_test, y_pred_proba)\n",
    "\n",
    "# Plot the ROC curve\n",
    "plt.figure(figsize=(8, 6))\n",
    "plt.plot(fpr, tpr, label=f'ROC Curve (AUC = {auc:.2f})')\n",
    "plt.plot([0, 1], [0, 1], 'k--')  # Diagonal line for random classifier\n",
    "plt.xlim([0.0, 1.0])\n",
    "plt.ylim([0.0, 1.05])\n",
    "plt.xlabel('False Positive Rate')\n",
    "plt.ylabel('True Positive Rate')\n",
    "plt.title('Receiver Operating Characteristic (ROC) Curve')\n",
    "plt.legend(loc='lower right')\n",
    "plt.show()\n"
   ]
  },
  {
   "cell_type": "code",
   "execution_count": 1,
   "metadata": {},
   "outputs": [
    {
     "name": "stdout",
     "output_type": "stream",
     "text": [
      "Note: you may need to restart the kernel to use updated packages.Collecting shap\n",
      "\n",
      "  Downloading shap-0.42.1-cp39-cp39-win_amd64.whl (462 kB)\n",
      "Requirement already satisfied: numba in c:\\users\\dell latitude 7240\\anaconda\\lib\\site-packages (from shap) (0.55.1)\n",
      "Requirement already satisfied: packaging>20.9 in c:\\users\\dell latitude 7240\\anaconda\\lib\\site-packages (from shap) (21.3)\n",
      "Requirement already satisfied: cloudpickle in c:\\users\\dell latitude 7240\\anaconda\\lib\\site-packages (from shap) (2.0.0)\n",
      "Collecting slicer==0.0.7\n",
      "  Downloading slicer-0.0.7-py3-none-any.whl (14 kB)\n",
      "Requirement already satisfied: pandas in c:\\users\\dell latitude 7240\\anaconda\\lib\\site-packages (from shap) (1.4.2)\n",
      "Requirement already satisfied: scipy in c:\\users\\dell latitude 7240\\anaconda\\lib\\site-packages (from shap) (1.7.3)\n",
      "Requirement already satisfied: scikit-learn in c:\\users\\dell latitude 7240\\anaconda\\lib\\site-packages (from shap) (1.0.2)\n",
      "Requirement already satisfied: tqdm>=4.27.0 in c:\\users\\dell latitude 7240\\anaconda\\lib\\site-packages (from shap) (4.64.0)\n",
      "Requirement already satisfied: numpy in c:\\users\\dell latitude 7240\\anaconda\\lib\\site-packages (from shap) (1.21.5)\n",
      "Requirement already satisfied: pyparsing!=3.0.5,>=2.0.2 in c:\\users\\dell latitude 7240\\anaconda\\lib\\site-packages (from packaging>20.9->shap) (3.0.4)\n",
      "Requirement already satisfied: colorama in c:\\users\\dell latitude 7240\\anaconda\\lib\\site-packages (from tqdm>=4.27.0->shap) (0.4.4)\n",
      "Requirement already satisfied: setuptools in c:\\users\\dell latitude 7240\\anaconda\\lib\\site-packages (from numba->shap) (61.2.0)\n",
      "Requirement already satisfied: llvmlite<0.39,>=0.38.0rc1 in c:\\users\\dell latitude 7240\\anaconda\\lib\\site-packages (from numba->shap) (0.38.0)\n",
      "Requirement already satisfied: python-dateutil>=2.8.1 in c:\\users\\dell latitude 7240\\anaconda\\lib\\site-packages (from pandas->shap) (2.8.2)\n",
      "Requirement already satisfied: pytz>=2020.1 in c:\\users\\dell latitude 7240\\anaconda\\lib\\site-packages (from pandas->shap) (2021.3)\n",
      "Requirement already satisfied: six>=1.5 in c:\\users\\dell latitude 7240\\anaconda\\lib\\site-packages (from python-dateutil>=2.8.1->pandas->shap) (1.16.0)\n",
      "Requirement already satisfied: joblib>=0.11 in c:\\users\\dell latitude 7240\\anaconda\\lib\\site-packages (from scikit-learn->shap) (1.3.1)\n",
      "Requirement already satisfied: threadpoolctl>=2.0.0 in c:\\users\\dell latitude 7240\\anaconda\\lib\\site-packages (from scikit-learn->shap) (2.2.0)\n",
      "Installing collected packages: slicer, shap\n",
      "Successfully installed shap-0.42.1 slicer-0.0.7\n"
     ]
    }
   ],
   "source": [
    "pip install shap\n"
   ]
  },
  {
   "cell_type": "code",
   "execution_count": 2,
   "metadata": {},
   "outputs": [
    {
     "name": "stderr",
     "output_type": "stream",
     "text": [
      "Using `tqdm.autonotebook.tqdm` in notebook mode. Use `tqdm.tqdm` instead to force console mode (e.g. in jupyter console)\n"
     ]
    }
   ],
   "source": [
    "import shap\n"
   ]
  },
  {
   "cell_type": "code",
   "execution_count": 18,
   "metadata": {},
   "outputs": [
    {
     "data": {
      "image/png": "[encoded data removed]",
      "text/plain": [
       "<Figure size 576x367.2 with 1 Axes>"
      ]
     },
     "metadata": {},
     "output_type": "display_data"
    }
   ],
   "source": [
    "\n",
    "\n",
    "# Import the SHAP library\n",
    "import shap\n",
    "\n",
    "# Create a SHAP explainer\n",
    "explainer = shap.TreeExplainer(best_decision_tree_model)\n",
    "\n",
    "# Calculate SHAP values for the testing data (replace X_test with your actual test data)\n",
    "shap_values = explainer.shap_values(X_test)\n",
    "\n",
    "# Create a summary plot\n",
    "shap.summary_plot(shap_values, X_test)\n"
   ]
  },
  {
   "cell_type": "code",
   "execution_count": 21,
   "metadata": {},
   "outputs": [
    {
     "data": {
      "image/png": "[encoded data removed]",
      "text/plain": [
       "<Figure size 576x367.2 with 2 Axes>"
      ]
     },
     "metadata": {},
     "output_type": "display_data"
    }
   ],
   "source": [
    "\n",
    "\n",
    "\n",
    "# Import the SHAP library\n",
    "import shap\n",
    "\n",
    "# Create a SHAP explainer\n",
    "explainer = shap.TreeExplainer(catboost_model)\n",
    "\n",
    "# Calculate SHAP values for the testing data (replace X_test with your actual test data)\n",
    "shap_values = explainer.shap_values(X_test)\n",
    "\n",
    "# Create a summary plot\n",
    "shap.summary_plot(shap_values, X_test)"
   ]
  },
  {
   "cell_type": "code",
   "execution_count": 23,
   "metadata": {},
   "outputs": [
    {
     "data": {
      "image/png": "[encoded data removed]",
      "text/plain": [
       "<Figure size 576x367.2 with 2 Axes>"
      ]
     },
     "metadata": {},
     "output_type": "display_data"
    }
   ],
   "source": [
    "\n",
    "\n",
    "# Import the SHAP library\n",
    "import shap\n",
    "\n",
    "# Create a SHAP explainer\n",
    "explainer = shap.TreeExplainer(gradient_boosting_model)\n",
    "\n",
    "# Calculate SHAP values for the testing data (replace X_test with your actual test data)\n",
    "shap_values = explainer.shap_values(X_test)\n",
    "\n",
    "# Create a summary plot\n",
    "shap.summary_plot(shap_values, X_test)"
   ]
  },
  {
   "cell_type": "code",
   "execution_count": 29,
   "metadata": {},
   "outputs": [
    {
     "data": {
      "image/png": "[encoded data removed]",
      "text/plain": [
       "<Figure size 576x367.2 with 2 Axes>"
      ]
     },
     "metadata": {},
     "output_type": "display_data"
    }
   ],
   "source": [
    "\n",
    "\n",
    "# Import the SHAP library\n",
    "import shap\n",
    "\n",
    "# Create a SHAP explainer\n",
    "explainer = shap.TreeExplainer(xgb_model)\n",
    "\n",
    "# Calculate SHAP values for the testing data (replace X_test with your actual test data)\n",
    "shap_values = explainer.shap_values(X_test)\n",
    "\n",
    "# Create a summary plot\n",
    "shap.summary_plot(shap_values, X_test)"
   ]
  },
  {
   "cell_type": "code",
   "execution_count": 30,
   "metadata": {},
   "outputs": [
    {
     "name": "stderr",
     "output_type": "stream",
     "text": [
      "LightGBM binary classifier with TreeExplainer shap values output has changed to a list of ndarray\n"
     ]
    },
    {
     "data": {
      "image/png": "[encoded data removed]",
      "text/plain": [
       "<Figure size 576x367.2 with 1 Axes>"
      ]
     },
     "metadata": {},
     "output_type": "display_data"
    }
   ],
   "source": [
    "# Import the SHAP library\n",
    "import shap\n",
    "\n",
    "# Create a SHAP explainer\n",
    "explainer = shap.TreeExplainer(lgb_model)\n",
    "\n",
    "# Calculate SHAP values for the testing data (replace X_test with your actual test data)\n",
    "shap_values = explainer.shap_values(X_test)\n",
    "\n",
    "# Create a summary plot\n",
    "shap.summary_plot(shap_values, X_test)"
   ]
  },
  {
   "cell_type": "code",
   "execution_count": 31,
   "metadata": {},
   "outputs": [
    {
     "data": {
      "image/png": "[encoded data removed]",
      "text/plain": [
       "<Figure size 576x367.2 with 1 Axes>"
      ]
     },
     "metadata": {},
     "output_type": "display_data"
    }
   ],
   "source": [
    "# Import the SHAP library\n",
    "import shap\n",
    "\n",
    "# Create a SHAP explainer\n",
    "explainer = shap.TreeExplainer(best_rf_model)\n",
    "\n",
    "# Calculate SHAP values for the testing data (replace X_test with your actual test data)\n",
    "shap_values = explainer.shap_values(X_test)\n",
    "\n",
    "# Create a summary plot\n",
    "shap.summary_plot(shap_values, X_test)"
   ]
  },
  {
   "cell_type": "code",
   "execution_count": 34,
   "metadata": {},
   "outputs": [
    {
     "name": "stdout",
     "output_type": "stream",
     "text": [
      "Mean Accuracy: 0.97\n",
      "Standard Deviation: 0.01\n"
     ]
    }
   ],
   "source": [
    "from sklearn.model_selection import cross_val_score, KFold\n",
    "\n",
    "from sklearn.tree import DecisionTreeClassifier\n",
    "from sklearn.ensemble import GradientBoostingClassifier\n",
    "from sklearn.metrics import accuracy_score, classification_report, confusion_matrix\n",
    "\n",
    "# Create the GradientBoostingClassifier object, using the decision tree model as the base estimator\n",
    "gradient_boosting_model = GradientBoostingClassifier(random_state=42)\n",
    "\n",
    "# Train the GradientBoostingClassifier on the training data\n",
    "gradient_boosting_model.fit(X_train_resampled, y_train_resampled)\n",
    "\n",
    "\n",
    "# Specify cross-validation settings\n",
    "kfold = KFold(n_splits=10, shuffle=True, random_state=42)\n",
    "\n",
    "# Perform cross-validation\n",
    "scores = cross_val_score(gradient_boosting_model, X_train_resampled, y_train_resampled, cv=kfold, scoring='accuracy')\n",
    "\n",
    "# Evaluate cross-validation results\n",
    "mean_accuracy = scores.mean()\n",
    "std_accuracy = scores.std()\n",
    "print(f\"Mean Accuracy: {mean_accuracy:.2f}\")\n",
    "print(f\"Standard Deviation: {std_accuracy:.2f}\")\n"
   ]
  },
  {
   "cell_type": "code",
   "execution_count": 37,
   "metadata": {},
   "outputs": [
    {
     "name": "stdout",
     "output_type": "stream",
     "text": [
      "Mean Accuracy: 0.99\n",
      "Standard Deviation: 0.00\n"
     ]
    }
   ],
   "source": [
    "\n",
    "\n",
    "from sklearn.model_selection import cross_val_score, KFold\n",
    "\n",
    "from sklearn.tree import DecisionTreeClassifier\n",
    "from sklearn.ensemble import GradientBoostingClassifier\n",
    "from sklearn.metrics import accuracy_score, classification_report, confusion_matrix\n",
    "\n",
    "\n",
    "# Create the DecisionTreeClassifier object\n",
    "decision_tree_model = DecisionTreeClassifier(random_state=42)\n",
    "\n",
    "\n",
    "# Specify cross-validation settings\n",
    "kfold = KFold(n_splits=10, shuffle=True, random_state=42)\n",
    "\n",
    "# Perform cross-validation\n",
    "scores = cross_val_score(decision_tree_model, X_train_hybridsampled, y_train_hybridsampled, cv=kfold, scoring='accuracy')\n",
    "\n",
    "# Evaluate cross-validation results\n",
    "mean_accuracy = scores.mean()\n",
    "std_accuracy = scores.std()\n",
    "print(f\"Mean Accuracy: {mean_accuracy:.2f}\")\n",
    "print(f\"Standard Deviation: {std_accuracy:.2f}\")"
   ]
  },
  {
   "cell_type": "code",
   "execution_count": 40,
   "metadata": {},
   "outputs": [
    {
     "name": "stdout",
     "output_type": "stream",
     "text": [
      "Mean Accuracy: 0.97\n",
      "Standard Deviation: 0.01\n"
     ]
    }
   ],
   "source": [
    "from sklearn.model_selection import cross_val_score, KFold\n",
    "\n",
    "from sklearn.tree import DecisionTreeClassifier\n",
    "from sklearn.ensemble import GradientBoostingClassifier\n",
    "from sklearn.metrics import accuracy_score, classification_report, confusion_matrix\n",
    "\n",
    "\n",
    "# Create the DecisionTreeClassifier object\n",
    "decision_tree_model = DecisionTreeClassifier(random_state=42)\n",
    "\n",
    "\n",
    "# Specify cross-validation settings\n",
    "kfold = KFold(n_splits=10, shuffle=True, random_state=42)\n",
    "\n",
    "# Perform cross-validation\n",
    "scores = cross_val_score(decision_tree_model, X_train_resampled, y_train_resampled, cv=kfold, scoring='accuracy')\n",
    "\n",
    "# Evaluate cross-validation results\n",
    "mean_accuracy = scores.mean()\n",
    "std_accuracy = scores.std()\n",
    "print(f\"Mean Accuracy: {mean_accuracy:.2f}\")\n",
    "print(f\"Standard Deviation: {std_accuracy:.2f}\")"
   ]
  },
  {
   "cell_type": "code",
   "execution_count": 44,
   "metadata": {},
   "outputs": [
    {
     "name": "stdout",
     "output_type": "stream",
     "text": [
      "Mean f1-score: 0.97\n",
      "Standard Deviation: 0.01\n"
     ]
    }
   ],
   "source": [
    "from sklearn.model_selection import cross_val_score, KFold\n",
    "\n",
    "from sklearn.tree import DecisionTreeClassifier\n",
    "from sklearn.ensemble import GradientBoostingClassifier\n",
    "from sklearn.metrics import accuracy_score, classification_report, confusion_matrix\n",
    "\n",
    "\n",
    "# Create the DecisionTreeClassifier object\n",
    "decision_tree_model = DecisionTreeClassifier(random_state=42)\n",
    "\n",
    "\n",
    "# Specify cross-validation settings\n",
    "kfold = KFold(n_splits=10, shuffle=True, random_state=42)\n",
    "\n",
    "# Perform cross-validation\n",
    "scores = cross_val_score(decision_tree_model, X_train_resampled, y_train_resampled, cv=kfold, scoring='recall')\n",
    "\n",
    "# Evaluate cross-validation results\n",
    "mean_f1score = scores.mean()\n",
    "std_f1score = scores.std()\n",
    "print(f\"Mean f1-score: {mean_f1score:.2f}\")\n",
    "print(f\"Standard Deviation: {std_f1score:.2f}\")"
   ]
  },
  {
   "cell_type": "code",
   "execution_count": null,
   "metadata": {},
   "outputs": [],
   "source": []
  }
 ],
 "metadata": {
  "kernelspec": {
   "display_name": "Python 3",
   "language": "python",
   "name": "python3"
  },
  "language_info": {
   "codemirror_mode": {
    "name": "ipython",
    "version": 3
   },
   "file_extension": ".py",
   "mimetype": "text/x-python",
   "name": "python",
   "nbconvert_exporter": "python",
   "pygments_lexer": "ipython3",
   "version": "3.7.6"
  }
 },
 "nbformat": 4,
 "nbformat_minor": 5
}
